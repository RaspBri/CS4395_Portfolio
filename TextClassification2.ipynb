{
  "cells": [
    {
      "cell_type": "markdown",
      "metadata": {
        "id": "HQMLtPnwmIfM"
      },
      "source": [
        "# Import External Data"
      ]
    },
    {
      "cell_type": "code",
      "execution_count": 3,
      "metadata": {
        "colab": {
          "base_uri": "https://localhost:8080/"
        },
        "id": "W5y0tSI7ceqO",
        "outputId": "fa33eb39-461a-4b38-bf7a-74a94e8da571"
      },
      "outputs": [
        {
          "output_type": "stream",
          "name": "stdout",
          "text": [
            "Mounted at /content/drive\n"
          ]
        }
      ],
      "source": [
        "# Import external file\n",
        "from google.colab import drive\n",
        "drive.mount('/content/drive')"
      ]
    },
    {
      "cell_type": "code",
      "execution_count": 4,
      "metadata": {
        "colab": {
          "base_uri": "https://localhost:8080/",
          "height": 221
        },
        "id": "uJ0uRL11lvSY",
        "outputId": "bfef653f-e0cf-4f40-f35f-48866e8eae5b"
      },
      "outputs": [
        {
          "output_type": "stream",
          "name": "stdout",
          "text": [
            "rows and columns: (41007, 9)\n"
          ]
        },
        {
          "output_type": "execute_result",
          "data": {
            "text/plain": [
              "         Make         Model  Year      Style  Distance  Engine_capacity(cm3)  \\\n",
              "0      Toyota         Prius  2011  Hatchback  195000.0                1800.0   \n",
              "1     Renault  Grand Scenic  2014  Universal  135000.0                1500.0   \n",
              "2  Volkswagen          Golf  1998  Hatchback       1.0                1400.0   \n",
              "3     Renault        Laguna  2012  Universal  110000.0                1500.0   \n",
              "4        Opel         Astra  2006  Universal  200000.0                1600.0   \n",
              "\n",
              "      Fuel_type Transmission  Price(euro)  \n",
              "0        Hybrid    Automatic       7750.0  \n",
              "1        Diesel       Manual       8550.0  \n",
              "2        Petrol       Manual       2200.0  \n",
              "3        Diesel       Manual       6550.0  \n",
              "4  Metan/Propan       Manual       4100.0  "
            ],
            "text/html": [
              "\n",
              "  <div id=\"df-05ac0dc9-0ecd-4e3f-b234-3a7a45b78a4a\">\n",
              "    <div class=\"colab-df-container\">\n",
              "      <div>\n",
              "<style scoped>\n",
              "    .dataframe tbody tr th:only-of-type {\n",
              "        vertical-align: middle;\n",
              "    }\n",
              "\n",
              "    .dataframe tbody tr th {\n",
              "        vertical-align: top;\n",
              "    }\n",
              "\n",
              "    .dataframe thead th {\n",
              "        text-align: right;\n",
              "    }\n",
              "</style>\n",
              "<table border=\"1\" class=\"dataframe\">\n",
              "  <thead>\n",
              "    <tr style=\"text-align: right;\">\n",
              "      <th></th>\n",
              "      <th>Make</th>\n",
              "      <th>Model</th>\n",
              "      <th>Year</th>\n",
              "      <th>Style</th>\n",
              "      <th>Distance</th>\n",
              "      <th>Engine_capacity(cm3)</th>\n",
              "      <th>Fuel_type</th>\n",
              "      <th>Transmission</th>\n",
              "      <th>Price(euro)</th>\n",
              "    </tr>\n",
              "  </thead>\n",
              "  <tbody>\n",
              "    <tr>\n",
              "      <th>0</th>\n",
              "      <td>Toyota</td>\n",
              "      <td>Prius</td>\n",
              "      <td>2011</td>\n",
              "      <td>Hatchback</td>\n",
              "      <td>195000.0</td>\n",
              "      <td>1800.0</td>\n",
              "      <td>Hybrid</td>\n",
              "      <td>Automatic</td>\n",
              "      <td>7750.0</td>\n",
              "    </tr>\n",
              "    <tr>\n",
              "      <th>1</th>\n",
              "      <td>Renault</td>\n",
              "      <td>Grand Scenic</td>\n",
              "      <td>2014</td>\n",
              "      <td>Universal</td>\n",
              "      <td>135000.0</td>\n",
              "      <td>1500.0</td>\n",
              "      <td>Diesel</td>\n",
              "      <td>Manual</td>\n",
              "      <td>8550.0</td>\n",
              "    </tr>\n",
              "    <tr>\n",
              "      <th>2</th>\n",
              "      <td>Volkswagen</td>\n",
              "      <td>Golf</td>\n",
              "      <td>1998</td>\n",
              "      <td>Hatchback</td>\n",
              "      <td>1.0</td>\n",
              "      <td>1400.0</td>\n",
              "      <td>Petrol</td>\n",
              "      <td>Manual</td>\n",
              "      <td>2200.0</td>\n",
              "    </tr>\n",
              "    <tr>\n",
              "      <th>3</th>\n",
              "      <td>Renault</td>\n",
              "      <td>Laguna</td>\n",
              "      <td>2012</td>\n",
              "      <td>Universal</td>\n",
              "      <td>110000.0</td>\n",
              "      <td>1500.0</td>\n",
              "      <td>Diesel</td>\n",
              "      <td>Manual</td>\n",
              "      <td>6550.0</td>\n",
              "    </tr>\n",
              "    <tr>\n",
              "      <th>4</th>\n",
              "      <td>Opel</td>\n",
              "      <td>Astra</td>\n",
              "      <td>2006</td>\n",
              "      <td>Universal</td>\n",
              "      <td>200000.0</td>\n",
              "      <td>1600.0</td>\n",
              "      <td>Metan/Propan</td>\n",
              "      <td>Manual</td>\n",
              "      <td>4100.0</td>\n",
              "    </tr>\n",
              "  </tbody>\n",
              "</table>\n",
              "</div>\n",
              "      <button class=\"colab-df-convert\" onclick=\"convertToInteractive('df-05ac0dc9-0ecd-4e3f-b234-3a7a45b78a4a')\"\n",
              "              title=\"Convert this dataframe to an interactive table.\"\n",
              "              style=\"display:none;\">\n",
              "        \n",
              "  <svg xmlns=\"http://www.w3.org/2000/svg\" height=\"24px\"viewBox=\"0 0 24 24\"\n",
              "       width=\"24px\">\n",
              "    <path d=\"M0 0h24v24H0V0z\" fill=\"none\"/>\n",
              "    <path d=\"M18.56 5.44l.94 2.06.94-2.06 2.06-.94-2.06-.94-.94-2.06-.94 2.06-2.06.94zm-11 1L8.5 8.5l.94-2.06 2.06-.94-2.06-.94L8.5 2.5l-.94 2.06-2.06.94zm10 10l.94 2.06.94-2.06 2.06-.94-2.06-.94-.94-2.06-.94 2.06-2.06.94z\"/><path d=\"M17.41 7.96l-1.37-1.37c-.4-.4-.92-.59-1.43-.59-.52 0-1.04.2-1.43.59L10.3 9.45l-7.72 7.72c-.78.78-.78 2.05 0 2.83L4 21.41c.39.39.9.59 1.41.59.51 0 1.02-.2 1.41-.59l7.78-7.78 2.81-2.81c.8-.78.8-2.07 0-2.86zM5.41 20L4 18.59l7.72-7.72 1.47 1.35L5.41 20z\"/>\n",
              "  </svg>\n",
              "      </button>\n",
              "      \n",
              "  <style>\n",
              "    .colab-df-container {\n",
              "      display:flex;\n",
              "      flex-wrap:wrap;\n",
              "      gap: 12px;\n",
              "    }\n",
              "\n",
              "    .colab-df-convert {\n",
              "      background-color: #E8F0FE;\n",
              "      border: none;\n",
              "      border-radius: 50%;\n",
              "      cursor: pointer;\n",
              "      display: none;\n",
              "      fill: #1967D2;\n",
              "      height: 32px;\n",
              "      padding: 0 0 0 0;\n",
              "      width: 32px;\n",
              "    }\n",
              "\n",
              "    .colab-df-convert:hover {\n",
              "      background-color: #E2EBFA;\n",
              "      box-shadow: 0px 1px 2px rgba(60, 64, 67, 0.3), 0px 1px 3px 1px rgba(60, 64, 67, 0.15);\n",
              "      fill: #174EA6;\n",
              "    }\n",
              "\n",
              "    [theme=dark] .colab-df-convert {\n",
              "      background-color: #3B4455;\n",
              "      fill: #D2E3FC;\n",
              "    }\n",
              "\n",
              "    [theme=dark] .colab-df-convert:hover {\n",
              "      background-color: #434B5C;\n",
              "      box-shadow: 0px 1px 3px 1px rgba(0, 0, 0, 0.15);\n",
              "      filter: drop-shadow(0px 1px 2px rgba(0, 0, 0, 0.3));\n",
              "      fill: #FFFFFF;\n",
              "    }\n",
              "  </style>\n",
              "\n",
              "      <script>\n",
              "        const buttonEl =\n",
              "          document.querySelector('#df-05ac0dc9-0ecd-4e3f-b234-3a7a45b78a4a button.colab-df-convert');\n",
              "        buttonEl.style.display =\n",
              "          google.colab.kernel.accessAllowed ? 'block' : 'none';\n",
              "\n",
              "        async function convertToInteractive(key) {\n",
              "          const element = document.querySelector('#df-05ac0dc9-0ecd-4e3f-b234-3a7a45b78a4a');\n",
              "          const dataTable =\n",
              "            await google.colab.kernel.invokeFunction('convertToInteractive',\n",
              "                                                     [key], {});\n",
              "          if (!dataTable) return;\n",
              "\n",
              "          const docLinkHtml = 'Like what you see? Visit the ' +\n",
              "            '<a target=\"_blank\" href=https://colab.research.google.com/notebooks/data_table.ipynb>data table notebook</a>'\n",
              "            + ' to learn more about interactive tables.';\n",
              "          element.innerHTML = '';\n",
              "          dataTable['output_type'] = 'display_data';\n",
              "          await google.colab.output.renderOutput(dataTable, element);\n",
              "          const docLink = document.createElement('div');\n",
              "          docLink.innerHTML = docLinkHtml;\n",
              "          element.appendChild(docLink);\n",
              "        }\n",
              "      </script>\n",
              "    </div>\n",
              "  </div>\n",
              "  "
            ]
          },
          "metadata": {},
          "execution_count": 4
        }
      ],
      "source": [
        "import pandas as pd\n",
        "# some necessary packages\n",
        "import tensorflow as tf\n",
        "from tensorflow.keras.preprocessing.text import Tokenizer\n",
        "from tensorflow.keras import layers, models\n",
        "\n",
        "from sklearn.preprocessing import LabelEncoder\n",
        "import pickle\n",
        "import numpy as np\n",
        "\n",
        "df = pd.read_csv('/content/drive/MyDrive/Colab Notebooks/cars.csv', header = 0, encoding='latin-1')\n",
        "print('rows and columns:', df.shape)\n",
        "df.head() # preview first 5 rows of data\n",
        "# set seed for reproducibility\n",
        "#np.random.seed(1234)"
      ]
    },
    {
      "cell_type": "markdown",
      "metadata": {
        "id": "BLGkvaummHPb"
      },
      "source": [
        "### Graph"
      ]
    },
    {
      "cell_type": "markdown",
      "metadata": {
        "id": "ZsOyuy_bmM52"
      },
      "source": [
        "Cars for Sale in Moldova. The model should be able to predict the transmission type of a car based on the data above."
      ]
    },
    {
      "cell_type": "code",
      "execution_count": null,
      "metadata": {
        "colab": {
          "base_uri": "https://localhost:8080/",
          "height": 466
        },
        "id": "odlh8Buol9Og",
        "outputId": "bd1425bb-d4ef-4b04-816b-76684be18a06"
      },
      "outputs": [
        {
          "data": {
            "text/plain": [
              "<Axes: xlabel='Transmission', ylabel='Count'>"
            ]
          },
          "execution_count": 4,
          "metadata": {},
          "output_type": "execute_result"
        },
        {
          "data": {
            "image/png": "[encoded data removed]",
            "text/plain": [
              "<Figure size 640x480 with 1 Axes>"
            ]
          },
          "metadata": {},
          "output_type": "display_data"
        }
      ],
      "source": [
        "import seaborn as sns\n",
        "sns.histplot(df.Transmission)"
      ]
    },
    {
      "cell_type": "code",
      "execution_count": null,
      "metadata": {
        "colab": {
          "base_uri": "https://localhost:8080/",
          "height": 466
        },
        "id": "y20TpJqIsNUG",
        "outputId": "292c92e9-30bc-4317-e57d-a80a1fbd6ec7"
      },
      "outputs": [
        {
          "data": {
            "text/plain": [
              "<Axes: xlabel='Make', ylabel='Count'>"
            ]
          },
          "execution_count": 5,
          "metadata": {},
          "output_type": "execute_result"
        },
        {
          "data": {
            "image/png": "[encoded data removed]",
            "text/plain": [
              "<Figure size 640x480 with 1 Axes>"
            ]
          },
          "metadata": {},
          "output_type": "display_data"
        }
      ],
      "source": [
        "sns.histplot(df.Make)"
      ]
    },
    {
      "cell_type": "code",
      "execution_count": null,
      "metadata": {
        "colab": {
          "base_uri": "https://localhost:8080/",
          "height": 466
        },
        "id": "vO2I8yzwsgqS",
        "outputId": "38d1b09d-99aa-4965-8b2e-6681b022253f"
      },
      "outputs": [
        {
          "data": {
            "text/plain": [
              "<Axes: xlabel='Style', ylabel='Count'>"
            ]
          },
          "execution_count": 6,
          "metadata": {},
          "output_type": "execute_result"
        },
        {
          "data": {
            "image/png": "[encoded data removed]",
            "text/plain": [
              "<Figure size 640x480 with 1 Axes>"
            ]
          },
          "metadata": {},
          "output_type": "display_data"
        }
      ],
      "source": [
        "sns.histplot(df.Style)"
      ]
    },
    {
      "cell_type": "markdown",
      "metadata": {
        "id": "ElWMhFV-tNzC"
      },
      "source": [
        "# Sequential Network"
      ]
    },
    {
      "cell_type": "markdown",
      "metadata": {
        "id": "hovJ_Ly8wKhy"
      },
      "source": [
        "Trying to predict transmssion based on car style."
      ]
    },
    {
      "cell_type": "code",
      "execution_count": null,
      "metadata": {
        "colab": {
          "base_uri": "https://localhost:8080/"
        },
        "id": "yGOAlKitoSlS",
        "outputId": "0cc6ba00-6c67-4ac2-fc17-3f3ed40bd305"
      },
      "outputs": [
        {
          "name": "stdout",
          "output_type": "stream",
          "text": [
            "train data size:  (32724, 9)\n",
            "test data size:  (8283, 9)\n"
          ]
        }
      ],
      "source": [
        "# split df into train and test\n",
        "i = np.random.rand(len(df)) < 0.8\n",
        "train = df[i]\n",
        "test = df[~i]\n",
        "print(\"train data size: \", train.shape)\n",
        "print(\"test data size: \", test.shape)"
      ]
    },
    {
      "cell_type": "code",
      "execution_count": null,
      "metadata": {
        "colab": {
          "base_uri": "https://localhost:8080/"
        },
        "id": "q-j9J7M1vXy3",
        "outputId": "cfaa93e8-5f3e-44eb-eeab-c50d5de83dd2"
      },
      "outputs": [
        {
          "name": "stdout",
          "output_type": "stream",
          "text": [
            "train shapes: (32724, 25000) (32724,)\n",
            "test shapes: (8283, 25000) (8283,)\n",
            "test first five labels: [1 0 0 1 0]\n"
          ]
        }
      ],
      "source": [
        "# set up X and Y\n",
        "num_labels = 2\n",
        "vocab_size = 25000\n",
        "batch_size = 100\n",
        "\n",
        "# fit the tokenizer on the training data\n",
        "tokenizer = Tokenizer(num_words=vocab_size)\n",
        "tokenizer.fit_on_texts(train.Style)\n",
        "\n",
        "x_train = tokenizer.texts_to_matrix(train.Style, mode='tfidf')\n",
        "x_test = tokenizer.texts_to_matrix(test.Style, mode='tfidf')\n",
        "\n",
        "encoder = LabelEncoder()\n",
        "encoder.fit(train.Transmission)\n",
        "y_train = encoder.transform(train.Transmission)\n",
        "y_test = encoder.transform(test.Transmission)\n",
        "\n",
        "# check shape\n",
        "print(\"train shapes:\", x_train.shape, y_train.shape)\n",
        "print(\"test shapes:\", x_test.shape, y_test.shape)\n",
        "print(\"test first five labels:\", y_test[:5])"
      ]
    },
    {
      "cell_type": "code",
      "execution_count": null,
      "metadata": {
        "colab": {
          "base_uri": "https://localhost:8080/"
        },
        "id": "__ogAS1uwCDi",
        "outputId": "6514d1f5-cb03-49fb-c273-ccc6c44adbaa"
      },
      "outputs": [
        {
          "name": "stdout",
          "output_type": "stream",
          "text": [
            "Epoch 1/30\n",
            "295/295 [==============================] - 9s 27ms/step - loss: 0.6364 - accuracy: 0.6572 - val_loss: 0.6092 - val_accuracy: 0.6502\n",
            "Epoch 2/30\n",
            "295/295 [==============================] - 9s 29ms/step - loss: 0.6150 - accuracy: 0.6651 - val_loss: 0.6112 - val_accuracy: 0.6462\n",
            "Epoch 3/30\n",
            "295/295 [==============================] - 7s 23ms/step - loss: 0.6150 - accuracy: 0.6645 - val_loss: 0.6136 - val_accuracy: 0.6489\n",
            "Epoch 4/30\n",
            "295/295 [==============================] - 9s 29ms/step - loss: 0.6148 - accuracy: 0.6646 - val_loss: 0.6108 - val_accuracy: 0.6489\n",
            "Epoch 5/30\n",
            "295/295 [==============================] - 7s 23ms/step - loss: 0.6149 - accuracy: 0.6646 - val_loss: 0.6130 - val_accuracy: 0.6462\n",
            "Epoch 6/30\n",
            "295/295 [==============================] - 9s 29ms/step - loss: 0.6149 - accuracy: 0.6649 - val_loss: 0.6089 - val_accuracy: 0.6502\n",
            "Epoch 7/30\n",
            "295/295 [==============================] - 7s 23ms/step - loss: 0.6150 - accuracy: 0.6648 - val_loss: 0.6117 - val_accuracy: 0.6499\n",
            "Epoch 8/30\n",
            "295/295 [==============================] - 9s 29ms/step - loss: 0.6149 - accuracy: 0.6648 - val_loss: 0.6134 - val_accuracy: 0.6462\n",
            "Epoch 9/30\n",
            "295/295 [==============================] - 7s 23ms/step - loss: 0.6148 - accuracy: 0.6646 - val_loss: 0.6090 - val_accuracy: 0.6502\n",
            "Epoch 10/30\n",
            "295/295 [==============================] - 9s 30ms/step - loss: 0.6149 - accuracy: 0.6651 - val_loss: 0.6084 - val_accuracy: 0.6474\n",
            "Epoch 11/30\n",
            "295/295 [==============================] - 7s 25ms/step - loss: 0.6148 - accuracy: 0.6651 - val_loss: 0.6094 - val_accuracy: 0.6489\n",
            "Epoch 12/30\n",
            "295/295 [==============================] - 9s 29ms/step - loss: 0.6150 - accuracy: 0.6654 - val_loss: 0.6103 - val_accuracy: 0.6502\n",
            "Epoch 13/30\n",
            "295/295 [==============================] - 7s 23ms/step - loss: 0.6149 - accuracy: 0.6643 - val_loss: 0.6116 - val_accuracy: 0.6489\n",
            "Epoch 14/30\n",
            "295/295 [==============================] - 8s 29ms/step - loss: 0.6149 - accuracy: 0.6647 - val_loss: 0.6132 - val_accuracy: 0.6474\n",
            "Epoch 15/30\n",
            "295/295 [==============================] - 7s 25ms/step - loss: 0.6149 - accuracy: 0.6651 - val_loss: 0.6119 - val_accuracy: 0.6502\n",
            "Epoch 16/30\n",
            "295/295 [==============================] - 8s 28ms/step - loss: 0.6149 - accuracy: 0.6654 - val_loss: 0.6128 - val_accuracy: 0.6502\n",
            "Epoch 17/30\n",
            "295/295 [==============================] - 8s 27ms/step - loss: 0.6148 - accuracy: 0.6646 - val_loss: 0.6116 - val_accuracy: 0.6474\n",
            "Epoch 18/30\n",
            "295/295 [==============================] - 8s 26ms/step - loss: 0.6148 - accuracy: 0.6646 - val_loss: 0.6128 - val_accuracy: 0.6502\n",
            "Epoch 19/30\n",
            "295/295 [==============================] - 9s 30ms/step - loss: 0.6150 - accuracy: 0.6651 - val_loss: 0.6145 - val_accuracy: 0.6462\n",
            "Epoch 20/30\n",
            "295/295 [==============================] - 7s 23ms/step - loss: 0.6148 - accuracy: 0.6651 - val_loss: 0.6094 - val_accuracy: 0.6474\n",
            "Epoch 21/30\n",
            "295/295 [==============================] - 9s 29ms/step - loss: 0.6149 - accuracy: 0.6653 - val_loss: 0.6106 - val_accuracy: 0.6502\n",
            "Epoch 22/30\n",
            "295/295 [==============================] - 7s 23ms/step - loss: 0.6148 - accuracy: 0.6656 - val_loss: 0.6117 - val_accuracy: 0.6489\n",
            "Epoch 23/30\n",
            "295/295 [==============================] - 9s 29ms/step - loss: 0.6149 - accuracy: 0.6646 - val_loss: 0.6096 - val_accuracy: 0.6489\n",
            "Epoch 24/30\n",
            "295/295 [==============================] - 7s 23ms/step - loss: 0.6149 - accuracy: 0.6653 - val_loss: 0.6104 - val_accuracy: 0.6462\n",
            "Epoch 25/30\n",
            "295/295 [==============================] - 9s 31ms/step - loss: 0.6148 - accuracy: 0.6649 - val_loss: 0.6162 - val_accuracy: 0.6462\n",
            "Epoch 26/30\n",
            "295/295 [==============================] - 7s 23ms/step - loss: 0.6149 - accuracy: 0.6642 - val_loss: 0.6162 - val_accuracy: 0.6462\n",
            "Epoch 27/30\n",
            "295/295 [==============================] - 9s 29ms/step - loss: 0.6150 - accuracy: 0.6648 - val_loss: 0.6125 - val_accuracy: 0.6462\n",
            "Epoch 28/30\n",
            "295/295 [==============================] - 7s 24ms/step - loss: 0.6148 - accuracy: 0.6649 - val_loss: 0.6118 - val_accuracy: 0.6502\n",
            "Epoch 29/30\n",
            "295/295 [==============================] - 9s 29ms/step - loss: 0.6149 - accuracy: 0.6649 - val_loss: 0.6087 - val_accuracy: 0.6502\n",
            "Epoch 30/30\n",
            "295/295 [==============================] - 7s 23ms/step - loss: 0.6149 - accuracy: 0.6650 - val_loss: 0.6122 - val_accuracy: 0.6502\n"
          ]
        }
      ],
      "source": [
        "# fit model\n",
        "model = models.Sequential()\n",
        "model.add(layers.Dense(32, input_dim=vocab_size, kernel_initializer='normal', activation='relu'))\n",
        "model.add(layers.Dense(1, kernel_initializer='normal', activation='sigmoid'))\n",
        " \n",
        "model.compile(loss='binary_crossentropy',\n",
        "              optimizer='adam',\n",
        "              metrics=['accuracy'])\n",
        " \n",
        "history = model.fit(x_train, y_train,\n",
        "                    batch_size=batch_size,\n",
        "                    epochs=30,\n",
        "                    verbose=1,\n",
        "                    validation_split=0.1)"
      ]
    },
    {
      "cell_type": "code",
      "execution_count": null,
      "metadata": {
        "colab": {
          "base_uri": "https://localhost:8080/"
        },
        "id": "Dh97KP-9qy0X",
        "outputId": "36ad8acb-84a1-436c-92fa-1950fb52b3ad"
      },
      "outputs": [
        {
          "name": "stdout",
          "output_type": "stream",
          "text": [
            "83/83 [==============================] - 1s 8ms/step - loss: 0.6176 - accuracy: 0.6588\n",
            "Accuracy:  0.6588192582130432\n"
          ]
        }
      ],
      "source": [
        "# evaluate\n",
        "score = model.evaluate(x_test, y_test, batch_size=batch_size, verbose=1)\n",
        "print('Accuracy: ', score[1])"
      ]
    },
    {
      "cell_type": "code",
      "execution_count": null,
      "metadata": {
        "colab": {
          "base_uri": "https://localhost:8080/"
        },
        "id": "DeZzY06urUOA",
        "outputId": "3ae36745-a7d2-498a-bec7-c5ff2aacb432"
      },
      "outputs": [
        {
          "name": "stdout",
          "output_type": "stream",
          "text": [
            "[0.617624819278717, 0.6588192582130432]\n"
          ]
        }
      ],
      "source": [
        "print(score)"
      ]
    },
    {
      "cell_type": "markdown",
      "metadata": {
        "id": "6OMB4yOzq3p6"
      },
      "source": [
        "#### Accuracy 66% "
      ]
    },
    {
      "cell_type": "markdown",
      "metadata": {
        "id": "E-RCxik1vNde"
      },
      "source": [
        "Out of all the models ran, this one performs the best. I think that is because there is not much overlap with each type of network connection compared to the others."
      ]
    },
    {
      "cell_type": "code",
      "execution_count": null,
      "metadata": {
        "colab": {
          "base_uri": "https://localhost:8080/"
        },
        "id": "awE2mro_rmkx",
        "outputId": "a569ac8d-1e66-468e-b7fb-bf30dd9c8eee"
      },
      "outputs": [
        {
          "name": "stdout",
          "output_type": "stream",
          "text": [
            "259/259 [==============================] - 1s 4ms/step\n",
            "accuracy score:  0.6588192683810213\n",
            "precision score:  0.7241292276627965\n",
            "recall score:  0.6234245980008691\n",
            "f1 score:  0.6700140121438579\n"
          ]
        }
      ],
      "source": [
        "from sklearn.metrics import accuracy_score, precision_score, recall_score, f1_score\n",
        "# get predictions so we can calculate more metrics\n",
        "pred = model.predict(x_test)\n",
        "pred_labels = [1 if p>0.5 else 0 for p in pred]\n",
        "\n",
        "print('accuracy score: ', accuracy_score(y_test, pred_labels))\n",
        "print('precision score: ', precision_score(y_test, pred_labels))\n",
        "print('recall score: ', recall_score(y_test, pred_labels))\n",
        "print('f1 score: ', f1_score(y_test, pred_labels))"
      ]
    },
    {
      "cell_type": "markdown",
      "metadata": {
        "id": "OyIxpTiCrxfZ"
      },
      "source": [
        "#### Precision Score 74%"
      ]
    },
    {
      "cell_type": "markdown",
      "metadata": {
        "id": "qfVJ_u3Mvp8v"
      },
      "source": [
        "# Sequential Network 2.0"
      ]
    },
    {
      "cell_type": "markdown",
      "metadata": {
        "id": "_haMgUuIwDN-"
      },
      "source": [
        "Trying the same model with different input. Trying to predict transmission based on Make this time instead."
      ]
    },
    {
      "cell_type": "code",
      "execution_count": null,
      "metadata": {
        "colab": {
          "base_uri": "https://localhost:8080/"
        },
        "id": "3jHjpRajvpg8",
        "outputId": "82f2670d-2d3f-49b9-f301-2c7817d7eec1"
      },
      "outputs": [
        {
          "name": "stdout",
          "output_type": "stream",
          "text": [
            "train shapes: (32695, 25000) (32695,)\n",
            "test shapes: (8312, 25000) (8312,)\n",
            "test first five labels: [1 1 1 0 1]\n"
          ]
        }
      ],
      "source": [
        "# set up X and Y\n",
        "num_labels = 2\n",
        "vocab_size = 25000\n",
        "batch_size = 100\n",
        "\n",
        "# fit the tokenizer on the training data\n",
        "tokenizer = Tokenizer(num_words=vocab_size)\n",
        "tokenizer.fit_on_texts(train.Make)\n",
        "\n",
        "x_train = tokenizer.texts_to_matrix(train.Make, mode='tfidf')\n",
        "x_test = tokenizer.texts_to_matrix(test.Make, mode='tfidf')\n",
        "\n",
        "encoder = LabelEncoder()\n",
        "encoder.fit(train.Transmission)\n",
        "y_train = encoder.transform(train.Transmission)\n",
        "y_test = encoder.transform(test.Transmission)\n",
        "\n",
        "# check shape\n",
        "print(\"train shapes:\", x_train.shape, y_train.shape)\n",
        "print(\"test shapes:\", x_test.shape, y_test.shape)\n",
        "print(\"test first five labels:\", y_test[:5])"
      ]
    },
    {
      "cell_type": "code",
      "execution_count": null,
      "metadata": {
        "colab": {
          "base_uri": "https://localhost:8080/"
        },
        "id": "YZO1n8dVv6Mt",
        "outputId": "ae76de20-d41e-45aa-972c-12243b0f6bbd"
      },
      "outputs": [
        {
          "name": "stdout",
          "output_type": "stream",
          "text": [
            "Epoch 1/30\n",
            "295/295 [==============================] - 11s 34ms/step - loss: 0.6114 - accuracy: 0.6922 - val_loss: 0.5472 - val_accuracy: 0.7147\n",
            "Epoch 2/30\n",
            "295/295 [==============================] - 10s 33ms/step - loss: 0.5646 - accuracy: 0.7039 - val_loss: 0.5479 - val_accuracy: 0.7128\n",
            "Epoch 3/30\n",
            "295/295 [==============================] - 10s 34ms/step - loss: 0.5626 - accuracy: 0.7049 - val_loss: 0.5474 - val_accuracy: 0.7144\n",
            "Epoch 4/30\n",
            "295/295 [==============================] - 10s 33ms/step - loss: 0.5615 - accuracy: 0.7048 - val_loss: 0.5487 - val_accuracy: 0.7141\n",
            "Epoch 5/30\n",
            "295/295 [==============================] - 9s 30ms/step - loss: 0.5614 - accuracy: 0.7043 - val_loss: 0.5478 - val_accuracy: 0.7141\n",
            "Epoch 6/30\n",
            "295/295 [==============================] - 11s 36ms/step - loss: 0.5613 - accuracy: 0.7050 - val_loss: 0.5464 - val_accuracy: 0.7135\n",
            "Epoch 7/30\n",
            "295/295 [==============================] - 13s 44ms/step - loss: 0.5610 - accuracy: 0.7045 - val_loss: 0.5436 - val_accuracy: 0.7141\n",
            "Epoch 8/30\n",
            "295/295 [==============================] - 8s 27ms/step - loss: 0.5611 - accuracy: 0.7047 - val_loss: 0.5463 - val_accuracy: 0.7141\n",
            "Epoch 9/30\n",
            "295/295 [==============================] - 8s 27ms/step - loss: 0.5610 - accuracy: 0.7041 - val_loss: 0.5485 - val_accuracy: 0.7141\n",
            "Epoch 10/30\n",
            "295/295 [==============================] - 9s 29ms/step - loss: 0.5610 - accuracy: 0.7045 - val_loss: 0.5484 - val_accuracy: 0.7144\n",
            "Epoch 11/30\n",
            "295/295 [==============================] - 7s 25ms/step - loss: 0.5607 - accuracy: 0.7046 - val_loss: 0.5528 - val_accuracy: 0.7147\n",
            "Epoch 12/30\n",
            "295/295 [==============================] - 9s 31ms/step - loss: 0.5611 - accuracy: 0.7050 - val_loss: 0.5472 - val_accuracy: 0.7141\n",
            "Epoch 13/30\n",
            "295/295 [==============================] - 7s 24ms/step - loss: 0.5608 - accuracy: 0.7049 - val_loss: 0.5459 - val_accuracy: 0.7144\n",
            "Epoch 14/30\n",
            "295/295 [==============================] - 9s 30ms/step - loss: 0.5608 - accuracy: 0.7032 - val_loss: 0.5484 - val_accuracy: 0.7135\n",
            "Epoch 15/30\n",
            "295/295 [==============================] - 7s 25ms/step - loss: 0.5608 - accuracy: 0.7041 - val_loss: 0.5480 - val_accuracy: 0.7141\n",
            "Epoch 16/30\n",
            "295/295 [==============================] - 9s 31ms/step - loss: 0.5608 - accuracy: 0.7052 - val_loss: 0.5504 - val_accuracy: 0.7131\n",
            "Epoch 17/30\n",
            "295/295 [==============================] - 8s 27ms/step - loss: 0.5608 - accuracy: 0.7049 - val_loss: 0.5480 - val_accuracy: 0.7135\n",
            "Epoch 18/30\n",
            "295/295 [==============================] - 8s 27ms/step - loss: 0.5608 - accuracy: 0.7046 - val_loss: 0.5476 - val_accuracy: 0.7138\n",
            "Epoch 19/30\n",
            "295/295 [==============================] - 9s 30ms/step - loss: 0.5607 - accuracy: 0.7042 - val_loss: 0.5484 - val_accuracy: 0.7226\n",
            "Epoch 20/30\n",
            "295/295 [==============================] - 7s 24ms/step - loss: 0.5608 - accuracy: 0.7045 - val_loss: 0.5495 - val_accuracy: 0.7135\n",
            "Epoch 21/30\n",
            "295/295 [==============================] - 9s 30ms/step - loss: 0.5606 - accuracy: 0.7041 - val_loss: 0.5500 - val_accuracy: 0.7144\n",
            "Epoch 22/30\n",
            "295/295 [==============================] - 7s 24ms/step - loss: 0.5608 - accuracy: 0.7046 - val_loss: 0.5482 - val_accuracy: 0.7128\n",
            "Epoch 23/30\n",
            "295/295 [==============================] - 9s 30ms/step - loss: 0.5607 - accuracy: 0.7052 - val_loss: 0.5529 - val_accuracy: 0.7144\n",
            "Epoch 24/30\n",
            "295/295 [==============================] - 7s 25ms/step - loss: 0.5607 - accuracy: 0.7046 - val_loss: 0.5492 - val_accuracy: 0.7141\n",
            "Epoch 25/30\n",
            "295/295 [==============================] - 9s 30ms/step - loss: 0.5608 - accuracy: 0.7046 - val_loss: 0.5498 - val_accuracy: 0.7144\n",
            "Epoch 26/30\n",
            "295/295 [==============================] - 8s 27ms/step - loss: 0.5608 - accuracy: 0.7043 - val_loss: 0.5479 - val_accuracy: 0.7138\n",
            "Epoch 27/30\n",
            "295/295 [==============================] - 8s 27ms/step - loss: 0.5607 - accuracy: 0.7046 - val_loss: 0.5511 - val_accuracy: 0.7144\n",
            "Epoch 28/30\n",
            "295/295 [==============================] - 9s 30ms/step - loss: 0.5607 - accuracy: 0.7046 - val_loss: 0.5498 - val_accuracy: 0.7144\n",
            "Epoch 29/30\n",
            "295/295 [==============================] - 7s 25ms/step - loss: 0.5607 - accuracy: 0.7048 - val_loss: 0.5484 - val_accuracy: 0.7141\n",
            "Epoch 30/30\n",
            "295/295 [==============================] - 9s 30ms/step - loss: 0.5605 - accuracy: 0.7058 - val_loss: 0.5498 - val_accuracy: 0.7135\n"
          ]
        }
      ],
      "source": [
        "# fit model\n",
        "model = models.Sequential()\n",
        "model.add(layers.Dense(32, input_dim=vocab_size, kernel_initializer='normal', activation='relu'))\n",
        "model.add(layers.Dense(1, kernel_initializer='normal', activation='sigmoid'))\n",
        " \n",
        "model.compile(loss='binary_crossentropy',\n",
        "              optimizer='adam',\n",
        "              metrics=['accuracy'])\n",
        " \n",
        "history = model.fit(x_train, y_train,\n",
        "                    batch_size=batch_size,\n",
        "                    epochs=30,\n",
        "                    verbose=1,\n",
        "                    validation_split=0.1)"
      ]
    },
    {
      "cell_type": "code",
      "execution_count": null,
      "metadata": {
        "colab": {
          "base_uri": "https://localhost:8080/"
        },
        "id": "WT6uTMjHv__E",
        "outputId": "bd2c6d08-ce1d-4f32-cbba-f1bfe844b940"
      },
      "outputs": [
        {
          "name": "stdout",
          "output_type": "stream",
          "text": [
            "84/84 [==============================] - 1s 11ms/step - loss: 0.5621 - accuracy: 0.7020\n",
            "Accuracy:  0.7019971013069153\n"
          ]
        }
      ],
      "source": [
        "# evaluate\n",
        "score = model.evaluate(x_test, y_test, batch_size=batch_size, verbose=1)\n",
        "print('Accuracy: ', score[1])"
      ]
    },
    {
      "cell_type": "markdown",
      "metadata": {
        "id": "qmRan3fyxAJ9"
      },
      "source": [
        "#### Accuracy 70%"
      ]
    },
    {
      "cell_type": "code",
      "execution_count": null,
      "metadata": {
        "colab": {
          "base_uri": "https://localhost:8080/"
        },
        "id": "BmOEJRNhxH7g",
        "outputId": "652ca222-7e4f-4931-e6b2-2cd9d282d10c"
      },
      "outputs": [
        {
          "name": "stdout",
          "output_type": "stream",
          "text": [
            "260/260 [==============================] - 1s 4ms/step\n",
            "accuracy score:  0.7019971126082772\n",
            "precision score:  0.7529525186791998\n",
            "recall score:  0.6826923076923077\n",
            "f1 score:  0.7161031518624642\n"
          ]
        }
      ],
      "source": [
        "from sklearn.metrics import accuracy_score, precision_score, recall_score, f1_score\n",
        "# get predictions so we can calculate more metrics\n",
        "pred = model.predict(x_test)\n",
        "pred_labels = [1 if p>0.5 else 0 for p in pred]\n",
        "\n",
        "print('accuracy score: ', accuracy_score(y_test, pred_labels))\n",
        "print('precision score: ', precision_score(y_test, pred_labels))\n",
        "print('recall score: ', recall_score(y_test, pred_labels))\n",
        "print('f1 score: ', f1_score(y_test, pred_labels))"
      ]
    },
    {
      "cell_type": "markdown",
      "metadata": {
        "id": "lBdmet2_xKaH"
      },
      "source": [
        "#### Precision Score 75%"
      ]
    },
    {
      "cell_type": "markdown",
      "source": [
        "## Sequential Network Summary"
      ],
      "metadata": {
        "id": "YhqVQIvl5P1_"
      }
    },
    {
      "cell_type": "markdown",
      "source": [
        "Using the make of the car instead of the car style was much more helpful to the model in predicting transmission types with sequential networking."
      ],
      "metadata": {
        "id": "Ro814gTv4s_S"
      }
    },
    {
      "cell_type": "markdown",
      "metadata": {
        "id": "mwCldJgwteLm"
      },
      "source": [
        "# Recurrent Neural Network"
      ]
    },
    {
      "cell_type": "code",
      "execution_count": null,
      "metadata": {
        "id": "v8cI3pQsuaCv"
      },
      "outputs": [],
      "source": [
        "import tensorflow as tf\n",
        "from tensorflow.keras import datasets, layers, models, preprocessing\n",
        "from sklearn.model_selection import train_test_split\n",
        "import numpy as np\n",
        "\n",
        "# split df into train and test\n",
        "i = np.random.rand(len(df)) < 0.8\n",
        "train = df[i]\n",
        "test = df[~i]\n",
        "\n",
        "# set up X and Y\n",
        "num_labels = 2\n",
        "vocab_size = 25000\n",
        "batch_size = 100\n",
        "\n",
        "# fit the tokenizer on the training data\n",
        "tokenizer = Tokenizer(num_words=vocab_size)\n",
        "tokenizer.fit_on_texts(train.Style)\n",
        "\n",
        "x_train = tokenizer.texts_to_matrix(train.Style, mode='tfidf')\n",
        "x_test = tokenizer.texts_to_matrix(test.Style, mode='tfidf')\n",
        "\n",
        "encoder = LabelEncoder()\n",
        "encoder.fit(train.Transmission)\n",
        "y_train = encoder.transform(train.Transmission)\n",
        "y_test = encoder.transform(test.Transmission)\n",
        "\n",
        "# Reserve samples for validation\n",
        "x_train = x_train[-40:]\n",
        "y_train = y_train[-40:]\n",
        "x_test = x_test[:-40]\n",
        "y_test = y_test[:-40]"
      ]
    },
    {
      "cell_type": "code",
      "execution_count": null,
      "metadata": {
        "colab": {
          "base_uri": "https://localhost:8080/"
        },
        "id": "0o3pvfyszJ2c",
        "outputId": "12f596f2-7792-44a8-a664-2007f557e630"
      },
      "outputs": [
        {
          "name": "stdout",
          "output_type": "stream",
          "text": [
            "Model: \"sequential_1\"\n",
            "_________________________________________________________________\n",
            " Layer (type)                Output Shape              Param #   \n",
            "=================================================================\n",
            " embedding (Embedding)       (None, None, 32)          320000    \n",
            "                                                                 \n",
            " simple_rnn (SimpleRNN)      (None, 32)                2080      \n",
            "                                                                 \n",
            " dense_2 (Dense)             (None, 1)                 33        \n",
            "                                                                 \n",
            "=================================================================\n",
            "Total params: 322,113\n",
            "Trainable params: 322,113\n",
            "Non-trainable params: 0\n",
            "_________________________________________________________________\n"
          ]
        }
      ],
      "source": [
        "# build a Sequential model with Embedding and SimpleRNN layers\n",
        "\n",
        "max_features = 10000\n",
        "\n",
        "model = models.Sequential()\n",
        "model.add(layers.Embedding(max_features, 32))\n",
        "model.add(layers.SimpleRNN(32))\n",
        "model.add(layers.Dense(1, activation='sigmoid'))\n",
        "\n",
        "model.summary()"
      ]
    },
    {
      "cell_type": "code",
      "execution_count": null,
      "metadata": {
        "id": "4ewE0esezoxk"
      },
      "outputs": [],
      "source": [
        "# compile\n",
        "model.compile(optimizer='rmsprop',\n",
        "              loss='binary_crossentropy',\n",
        "              metrics=['accuracy'])"
      ]
    },
    {
      "cell_type": "markdown",
      "metadata": {
        "id": "TNTHaLGxbUWE"
      },
      "source": [
        "#### Train on 40 test items"
      ]
    },
    {
      "cell_type": "code",
      "execution_count": null,
      "metadata": {
        "colab": {
          "base_uri": "https://localhost:8080/"
        },
        "id": "SorElXPVXJW0",
        "outputId": "6e020f4b-777f-4658-a722-00cd009a51d8"
      },
      "outputs": [
        {
          "name": "stdout",
          "output_type": "stream",
          "text": [
            "Epoch 1/10\n",
            "1/1 [==============================] - 88s 88s/step - loss: 0.6754 - accuracy: 0.6875 - val_loss: 0.6755 - val_accuracy: 0.6250\n",
            "Epoch 2/10\n",
            "1/1 [==============================] - 91s 91s/step - loss: 0.6649 - accuracy: 0.6875 - val_loss: 0.6667 - val_accuracy: 0.6250\n",
            "Epoch 3/10\n",
            "1/1 [==============================] - 96s 96s/step - loss: 0.6477 - accuracy: 0.6875 - val_loss: 0.6623 - val_accuracy: 0.6250\n",
            "Epoch 4/10\n",
            "1/1 [==============================] - 98s 98s/step - loss: 0.6351 - accuracy: 0.6875 - val_loss: 0.6622 - val_accuracy: 0.6250\n",
            "Epoch 5/10\n",
            "1/1 [==============================] - 102s 102s/step - loss: 0.6256 - accuracy: 0.6875 - val_loss: 0.6667 - val_accuracy: 0.6250\n",
            "Epoch 6/10\n",
            "1/1 [==============================] - 98s 98s/step - loss: 0.6216 - accuracy: 0.6875 - val_loss: 0.6701 - val_accuracy: 0.6250\n",
            "Epoch 7/10\n",
            "1/1 [==============================] - 95s 95s/step - loss: 0.6211 - accuracy: 0.6875 - val_loss: 0.6704 - val_accuracy: 0.6250\n",
            "Epoch 8/10\n",
            "1/1 [==============================] - 100s 100s/step - loss: 0.6211 - accuracy: 0.6875 - val_loss: 0.6704 - val_accuracy: 0.6250\n",
            "Epoch 9/10\n",
            "1/1 [==============================] - 104s 104s/step - loss: 0.6211 - accuracy: 0.6875 - val_loss: 0.6704 - val_accuracy: 0.6250\n",
            "Epoch 10/10\n",
            "1/1 [==============================] - 109s 109s/step - loss: 0.6211 - accuracy: 0.6875 - val_loss: 0.6704 - val_accuracy: 0.6250\n"
          ]
        }
      ],
      "source": [
        "# train\n",
        "\n",
        "history = model.fit(x_train,\n",
        "                    y_train,\n",
        "                    epochs=10,\n",
        "                    batch_size=128,\n",
        "                    validation_split=0.2)"
      ]
    },
    {
      "cell_type": "markdown",
      "metadata": {
        "id": "FtDsj9HhLMb8"
      },
      "source": [
        "##### 68% accuracy "
      ]
    },
    {
      "cell_type": "code",
      "execution_count": null,
      "metadata": {
        "colab": {
          "base_uri": "https://localhost:8080/"
        },
        "id": "kfiqrJOUneKX",
        "outputId": "29c4d4f4-b382-40d3-a7ea-80bb6f3fcfa0"
      },
      "outputs": [
        {
          "name": "stdout",
          "output_type": "stream",
          "text": [
            "257/257 [==============================] - 382s 1s/step\n",
            "              precision    recall  f1-score   support\n",
            "\n",
            "           0       0.00      0.00      0.00      3675\n",
            "           1       0.55      1.00      0.71      4524\n",
            "\n",
            "    accuracy                           0.55      8199\n",
            "   macro avg       0.28      0.50      0.36      8199\n",
            "weighted avg       0.30      0.55      0.39      8199\n",
            "\n"
          ]
        },
        {
          "name": "stderr",
          "output_type": "stream",
          "text": [
            "/usr/local/lib/python3.9/dist-packages/sklearn/metrics/_classification.py:1344: UndefinedMetricWarning: Precision and F-score are ill-defined and being set to 0.0 in labels with no predicted samples. Use `zero_division` parameter to control this behavior.\n",
            "  _warn_prf(average, modifier, msg_start, len(result))\n",
            "/usr/local/lib/python3.9/dist-packages/sklearn/metrics/_classification.py:1344: UndefinedMetricWarning: Precision and F-score are ill-defined and being set to 0.0 in labels with no predicted samples. Use `zero_division` parameter to control this behavior.\n",
            "  _warn_prf(average, modifier, msg_start, len(result))\n",
            "/usr/local/lib/python3.9/dist-packages/sklearn/metrics/_classification.py:1344: UndefinedMetricWarning: Precision and F-score are ill-defined and being set to 0.0 in labels with no predicted samples. Use `zero_division` parameter to control this behavior.\n",
            "  _warn_prf(average, modifier, msg_start, len(result))\n"
          ]
        }
      ],
      "source": [
        "from sklearn.metrics import classification_report\n",
        "\n",
        "pred = model.predict(x_test)\n",
        "pred = [1.0 if p>= 0.5 else 0.0 for p in pred]\n",
        "print(classification_report(y_test, pred))"
      ]
    },
    {
      "cell_type": "markdown",
      "metadata": {
        "id": "4ZL2gjI5z8LI"
      },
      "source": [
        "##### 55% Accuracy"
      ]
    },
    {
      "cell_type": "code",
      "execution_count": null,
      "metadata": {
        "id": "y_HSPuDBbQif"
      },
      "outputs": [],
      "source": [
        "x_train = tokenizer.texts_to_matrix(train.Style, mode='tfidf')\n",
        "x_test = tokenizer.texts_to_matrix(test.Style, mode='tfidf')\n",
        "y_train = encoder.transform(train.Transmission)\n",
        "y_test = encoder.transform(test.Transmission)\n",
        "\n",
        "# Reserve samples for validation\n",
        "x_train = x_train[-400:]\n",
        "y_train = y_train[-400:]\n",
        "x_test = x_test[:-400]\n",
        "y_test = y_test[:-400]"
      ]
    },
    {
      "cell_type": "markdown",
      "metadata": {
        "id": "bj6xhJBWbY1-"
      },
      "source": [
        "#### Train on 400 test items"
      ]
    },
    {
      "cell_type": "code",
      "execution_count": null,
      "metadata": {
        "colab": {
          "base_uri": "https://localhost:8080/"
        },
        "id": "56B3812WbAoV",
        "outputId": "b197f986-586e-4302-cc43-0be448089eee"
      },
      "outputs": [
        {
          "name": "stdout",
          "output_type": "stream",
          "text": [
            "Epoch 1/10\n",
            "3/3 [==============================] - 407s 134s/step - loss: 0.6820 - accuracy: 0.6000 - val_loss: 0.6676 - val_accuracy: 0.6125\n",
            "Epoch 2/10\n",
            "3/3 [==============================] - 429s 139s/step - loss: 0.6734 - accuracy: 0.6000 - val_loss: 0.6683 - val_accuracy: 0.6125\n",
            "Epoch 3/10\n",
            "3/3 [==============================] - 410s 143s/step - loss: 0.6743 - accuracy: 0.6000 - val_loss: 0.6685 - val_accuracy: 0.6125\n",
            "Epoch 4/10\n",
            "3/3 [==============================] - 486s 146s/step - loss: 0.6747 - accuracy: 0.6000 - val_loss: 0.6678 - val_accuracy: 0.6125\n",
            "Epoch 5/10\n",
            "3/3 [==============================] - 412s 139s/step - loss: 0.6739 - accuracy: 0.6000 - val_loss: 0.6704 - val_accuracy: 0.6125\n",
            "Epoch 6/10\n",
            "3/3 [==============================] - 450s 141s/step - loss: 0.6740 - accuracy: 0.6000 - val_loss: 0.6680 - val_accuracy: 0.6125\n",
            "Epoch 7/10\n",
            "3/3 [==============================] - 321s 103s/step - loss: 0.6732 - accuracy: 0.6000 - val_loss: 0.6676 - val_accuracy: 0.6125\n",
            "Epoch 8/10\n",
            "3/3 [==============================] - 312s 105s/step - loss: 0.6744 - accuracy: 0.6000 - val_loss: 0.6703 - val_accuracy: 0.6125\n",
            "Epoch 9/10\n",
            "3/3 [==============================] - 335s 112s/step - loss: 0.6745 - accuracy: 0.6000 - val_loss: 0.6678 - val_accuracy: 0.6125\n",
            "Epoch 10/10\n",
            "3/3 [==============================] - 313s 107s/step - loss: 0.6736 - accuracy: 0.6000 - val_loss: 0.6685 - val_accuracy: 0.6125\n"
          ]
        }
      ],
      "source": [
        "# train\n",
        "\n",
        "history = model.fit(x_train,\n",
        "                    y_train,\n",
        "                    epochs=10,\n",
        "                    batch_size=128,\n",
        "                    validation_split=0.2)"
      ]
    },
    {
      "cell_type": "markdown",
      "metadata": {
        "id": "xG4HfZ_6LQsA"
      },
      "source": [
        "##### 60% accuracy"
      ]
    },
    {
      "cell_type": "code",
      "execution_count": null,
      "metadata": {
        "colab": {
          "background_save": true,
          "base_uri": "https://localhost:8080/"
        },
        "id": "63d8qMfwrynO",
        "outputId": "c4dd5e85-aed7-464c-f94a-d9164afddc99"
      },
      "outputs": [
        {
          "name": "stdout",
          "output_type": "stream",
          "text": [
            "245/245 [==============================] - 334s 1s/step\n",
            "              precision    recall  f1-score   support\n",
            "\n",
            "           0       0.00      0.00      0.00      3534\n",
            "           1       0.55      1.00      0.71      4305\n",
            "\n",
            "    accuracy                           0.55      7839\n",
            "   macro avg       0.27      0.50      0.35      7839\n",
            "weighted avg       0.30      0.55      0.39      7839\n",
            "\n"
          ]
        },
        {
          "name": "stderr",
          "output_type": "stream",
          "text": [
            "/usr/local/lib/python3.9/dist-packages/sklearn/metrics/_classification.py:1344: UndefinedMetricWarning: Precision and F-score are ill-defined and being set to 0.0 in labels with no predicted samples. Use `zero_division` parameter to control this behavior.\n",
            "  _warn_prf(average, modifier, msg_start, len(result))\n",
            "/usr/local/lib/python3.9/dist-packages/sklearn/metrics/_classification.py:1344: UndefinedMetricWarning: Precision and F-score are ill-defined and being set to 0.0 in labels with no predicted samples. Use `zero_division` parameter to control this behavior.\n",
            "  _warn_prf(average, modifier, msg_start, len(result))\n",
            "/usr/local/lib/python3.9/dist-packages/sklearn/metrics/_classification.py:1344: UndefinedMetricWarning: Precision and F-score are ill-defined and being set to 0.0 in labels with no predicted samples. Use `zero_division` parameter to control this behavior.\n",
            "  _warn_prf(average, modifier, msg_start, len(result))\n"
          ]
        }
      ],
      "source": [
        "from sklearn.metrics import classification_report\n",
        "\n",
        "pred = model.predict(x_test)\n",
        "pred = [1.0 if p>= 0.5 else 0.0 for p in pred]\n",
        "print(classification_report(y_test, pred))"
      ]
    },
    {
      "cell_type": "markdown",
      "metadata": {
        "id": "qfKOCkuguH_O"
      },
      "source": [
        "##### Accuracy is 55%"
      ]
    },
    {
      "cell_type": "markdown",
      "source": [
        "## Recurrenn Neural Network Summary"
      ],
      "metadata": {
        "id": "lZmahi4X5atn"
      }
    },
    {
      "cell_type": "markdown",
      "source": [
        "Using more test items surprisingly lowered the accuracy of the results of the model when using style to predict transmission type."
      ],
      "metadata": {
        "id": "E1auSYiU5FEk"
      }
    },
    {
      "cell_type": "markdown",
      "metadata": {
        "id": "QQefbefbxvaP"
      },
      "source": [
        "# Recurrent Neural Network 2.0"
      ]
    },
    {
      "cell_type": "code",
      "execution_count": null,
      "metadata": {
        "id": "n-951S5lxyIk"
      },
      "outputs": [],
      "source": [
        "import tensorflow as tf\n",
        "from tensorflow.keras import datasets, layers, models, preprocessing\n",
        "from sklearn.model_selection import train_test_split\n",
        "import numpy as np\n",
        "\n",
        "# split df into train and test\n",
        "i = np.random.rand(len(df)) < 0.8\n",
        "train = df[i]\n",
        "test = df[~i]\n",
        "\n",
        "# set up X and Y\n",
        "num_labels = 2\n",
        "vocab_size = 25000\n",
        "batch_size = 100\n",
        "\n",
        "# fit the tokenizer on the training data\n",
        "tokenizer = Tokenizer(num_words=vocab_size)\n",
        "tokenizer.fit_on_texts(train.Make)\n",
        "\n",
        "x_train = tokenizer.texts_to_matrix(train.Make, mode='tfidf')\n",
        "x_test = tokenizer.texts_to_matrix(test.Make, mode='tfidf')\n",
        "\n",
        "encoder = LabelEncoder()\n",
        "encoder.fit(train.Transmission)\n",
        "y_train = encoder.transform(train.Transmission)\n",
        "y_test = encoder.transform(test.Transmission)\n",
        "\n",
        "# Reserve samples for validation\n",
        "x_train = x_train[-40:]\n",
        "y_train = y_train[-40:]\n",
        "x_test = x_test[:-40]\n",
        "y_test = y_test[:-40]"
      ]
    },
    {
      "cell_type": "code",
      "execution_count": null,
      "metadata": {
        "colab": {
          "base_uri": "https://localhost:8080/"
        },
        "id": "vLfWFDWgx7Ye",
        "outputId": "37aa22b2-8f3c-45e7-a762-a787b4c851ce"
      },
      "outputs": [
        {
          "name": "stdout",
          "output_type": "stream",
          "text": [
            "Model: \"sequential_9\"\n",
            "_________________________________________________________________\n",
            " Layer (type)                Output Shape              Param #   \n",
            "=================================================================\n",
            " embedding_2 (Embedding)     (None, None, 32)          320000    \n",
            "                                                                 \n",
            " simple_rnn (SimpleRNN)      (None, 32)                2080      \n",
            "                                                                 \n",
            " dense_4 (Dense)             (None, 1)                 33        \n",
            "                                                                 \n",
            "=================================================================\n",
            "Total params: 322,113\n",
            "Trainable params: 322,113\n",
            "Non-trainable params: 0\n",
            "_________________________________________________________________\n"
          ]
        }
      ],
      "source": [
        "# build a Sequential model with Embedding and SimpleRNN layers\n",
        "\n",
        "max_features = 10000\n",
        "\n",
        "model = models.Sequential()\n",
        "model.add(layers.Embedding(max_features, 32))\n",
        "model.add(layers.SimpleRNN(32))\n",
        "model.add(layers.Dense(1, activation='sigmoid'))\n",
        "\n",
        "model.summary()"
      ]
    },
    {
      "cell_type": "code",
      "execution_count": null,
      "metadata": {
        "id": "VEYwxpHPx-tj"
      },
      "outputs": [],
      "source": [
        "# compile\n",
        "model.compile(optimizer='rmsprop',\n",
        "              loss='binary_crossentropy',\n",
        "              metrics=['accuracy'])"
      ]
    },
    {
      "cell_type": "markdown",
      "metadata": {
        "id": "9nce8U_EyPHx"
      },
      "source": [
        "#### Train on 40 test items"
      ]
    },
    {
      "cell_type": "code",
      "execution_count": null,
      "metadata": {
        "colab": {
          "base_uri": "https://localhost:8080/"
        },
        "id": "SqXBvuY0yCE6",
        "outputId": "665e843b-a613-4d82-d654-cd7551c01099"
      },
      "outputs": [
        {
          "name": "stdout",
          "output_type": "stream",
          "text": [
            "Epoch 1/10\n",
            "1/1 [==============================] - 99s 99s/step - loss: 0.8928 - accuracy: 0.2500 - val_loss: 0.6995 - val_accuracy: 0.3750\n",
            "Epoch 2/10\n",
            "1/1 [==============================] - 87s 87s/step - loss: 0.7055 - accuracy: 0.2500 - val_loss: 0.6637 - val_accuracy: 0.6250\n",
            "Epoch 3/10\n",
            "1/1 [==============================] - 86s 86s/step - loss: 0.6165 - accuracy: 0.7500 - val_loss: 0.6617 - val_accuracy: 0.6250\n",
            "Epoch 4/10\n",
            "1/1 [==============================] - 86s 86s/step - loss: 0.5938 - accuracy: 0.7500 - val_loss: 0.6639 - val_accuracy: 0.6250\n",
            "Epoch 5/10\n",
            "1/1 [==============================] - 95s 95s/step - loss: 0.5822 - accuracy: 0.7500 - val_loss: 0.6676 - val_accuracy: 0.6250\n",
            "Epoch 6/10\n",
            "1/1 [==============================] - 88s 88s/step - loss: 0.5750 - accuracy: 0.7500 - val_loss: 0.6719 - val_accuracy: 0.6250\n",
            "Epoch 7/10\n",
            "1/1 [==============================] - 86s 86s/step - loss: 0.5704 - accuracy: 0.7500 - val_loss: 0.6763 - val_accuracy: 0.6250\n",
            "Epoch 8/10\n",
            "1/1 [==============================] - 90s 90s/step - loss: 0.5673 - accuracy: 0.7500 - val_loss: 0.6806 - val_accuracy: 0.6250\n",
            "Epoch 9/10\n",
            "1/1 [==============================] - 87s 87s/step - loss: 0.5653 - accuracy: 0.7500 - val_loss: 0.6845 - val_accuracy: 0.6250\n",
            "Epoch 10/10\n",
            "1/1 [==============================] - 110s 110s/step - loss: 0.5641 - accuracy: 0.7500 - val_loss: 0.6880 - val_accuracy: 0.6250\n"
          ]
        }
      ],
      "source": [
        "# train\n",
        "\n",
        "history = model.fit(x_train,\n",
        "                    y_train,\n",
        "                    epochs=10,\n",
        "                    batch_size=128,\n",
        "                    validation_split=0.2)"
      ]
    },
    {
      "cell_type": "markdown",
      "metadata": {
        "id": "ykILfWi31KnF"
      },
      "source": [
        "#### Accuracy 70%"
      ]
    },
    {
      "cell_type": "code",
      "execution_count": null,
      "metadata": {
        "id": "qZxR0iYmyJz2"
      },
      "outputs": [],
      "source": [
        "from sklearn.metrics import classification_report\n",
        "\n",
        "pred = model.predict(x_test)\n",
        "pred = [1.0 if p>= 0.5 else 0.0 for p in pred]\n",
        "print(classification_report(y_test, pred))"
      ]
    },
    {
      "cell_type": "markdown",
      "source": [
        "## Recurrent Neural Network 2.0 Summary"
      ],
      "metadata": {
        "id": "Yj68MxqE5fKX"
      }
    },
    {
      "cell_type": "markdown",
      "source": [
        "The model was more accurate with 40 test items that used the Make to predict transmission type over style."
      ],
      "metadata": {
        "id": "YkGyBOh05i3I"
      }
    },
    {
      "cell_type": "markdown",
      "metadata": {
        "id": "qoGd0gW3qZox"
      },
      "source": [
        "# Convolutional Neural Network"
      ]
    },
    {
      "cell_type": "code",
      "execution_count": null,
      "metadata": {
        "id": "ZPg2kIjOqYtc"
      },
      "outputs": [],
      "source": [
        "import tensorflow as tf\n",
        "from tensorflow.keras import datasets, layers, models, preprocessing"
      ]
    },
    {
      "cell_type": "code",
      "execution_count": null,
      "metadata": {
        "colab": {
          "base_uri": "https://localhost:8080/"
        },
        "id": "99516AaoqjgH",
        "outputId": "a142fea5-6e11-415f-b379-82bd3da2c5e5"
      },
      "outputs": [
        {
          "name": "stdout",
          "output_type": "stream",
          "text": [
            "train shapes: (40, 500) (40,)\n",
            "test shapes: (8272, 500) (8272,)\n",
            "test first five labels: [1 1 1 0 1]\n"
          ]
        }
      ],
      "source": [
        "# split df into train and test\n",
        "i = np.random.rand(len(df)) < 0.8\n",
        "train = df[i]\n",
        "test = df[~i]\n",
        "\n",
        "# set up X and Y\n",
        "num_labels = 2\n",
        "vocab_size = 500\n",
        "batch_size = 100\n",
        "\n",
        "# fit the tokenizer on the training data\n",
        "tokenizer = Tokenizer(num_words=vocab_size)\n",
        "tokenizer.fit_on_texts(train.Style)\n",
        "\n",
        "x_train = tokenizer.texts_to_matrix(train.Style, mode='tfidf')\n",
        "x_test = tokenizer.texts_to_matrix(test.Style, mode='tfidf')\n",
        "\n",
        "encoder = LabelEncoder()\n",
        "encoder.fit(train.Transmission)\n",
        "y_train = encoder.transform(train.Transmission)\n",
        "y_test = encoder.transform(test.Transmission)\n",
        "\n",
        "# Reserve samples for validation\n",
        "x_train = x_train[-40:]\n",
        "y_train = y_train[-40:]\n",
        "x_test = x_test[:-40]\n",
        "y_test = y_test[:-40]\n",
        "\n",
        "# check shape\n",
        "print(\"train shapes:\", x_train.shape, y_train.shape)\n",
        "print(\"test shapes:\", x_test.shape, y_test.shape)\n",
        "print(\"test first five labels:\", y_test[:5])"
      ]
    },
    {
      "cell_type": "code",
      "execution_count": null,
      "metadata": {
        "colab": {
          "base_uri": "https://localhost:8080/"
        },
        "id": "p10baZBarXxg",
        "outputId": "7df4fc45-9279-4916-aa2c-2cb4075d0338"
      },
      "outputs": [
        {
          "name": "stdout",
          "output_type": "stream",
          "text": [
            "Model: \"sequential_3\"\n",
            "_________________________________________________________________\n",
            " Layer (type)                Output Shape              Param #   \n",
            "=================================================================\n",
            " embedding_1 (Embedding)     (None, 500, 128)          1280000   \n",
            "                                                                 \n",
            " conv1d_2 (Conv1D)           (None, 494, 32)           28704     \n",
            "                                                                 \n",
            " max_pooling1d_1 (MaxPooling  (None, 98, 32)           0         \n",
            " 1D)                                                             \n",
            "                                                                 \n",
            " conv1d_3 (Conv1D)           (None, 92, 32)            7200      \n",
            "                                                                 \n",
            " global_max_pooling1d_1 (Glo  (None, 32)               0         \n",
            " balMaxPooling1D)                                                \n",
            "                                                                 \n",
            " dense_1 (Dense)             (None, 1)                 33        \n",
            "                                                                 \n",
            "=================================================================\n",
            "Total params: 1,315,937\n",
            "Trainable params: 1,315,937\n",
            "Non-trainable params: 0\n",
            "_________________________________________________________________\n"
          ]
        }
      ],
      "source": [
        "# build a Sequential model 1D convnet\n",
        "max_features = 10000\n",
        "maxlen = 500\n",
        "\n",
        "model = models.Sequential()\n",
        "model.add(layers.Embedding(max_features, 128, input_length=maxlen)) \n",
        "model.add(layers.Conv1D(32, 7, activation='relu')) \n",
        "model.add(layers.MaxPooling1D(5)) \n",
        "model.add(layers.Conv1D(32, 7, activation='relu')) \n",
        "model.add(layers.GlobalMaxPooling1D())\n",
        "model.add(layers.Dense(1))\n",
        "\n",
        "model.summary()"
      ]
    },
    {
      "cell_type": "code",
      "execution_count": null,
      "metadata": {
        "colab": {
          "base_uri": "https://localhost:8080/"
        },
        "id": "lZ5tRuMwrkn1",
        "outputId": "ade5c49f-4377-4cd0-bf7d-410adf228dac"
      },
      "outputs": [
        {
          "name": "stderr",
          "output_type": "stream",
          "text": [
            "WARNING:absl:`lr` is deprecated in Keras optimizer, please use `learning_rate` or use the legacy optimizer, e.g.,tf.keras.optimizers.legacy.RMSprop.\n"
          ]
        }
      ],
      "source": [
        "# compile\n",
        "\n",
        "model.compile(optimizer=tf.keras.optimizers.RMSprop(lr=1e-4),  # set learning rate\n",
        "              loss='binary_crossentropy',\n",
        "              metrics=['accuracy'])"
      ]
    },
    {
      "cell_type": "code",
      "execution_count": null,
      "metadata": {
        "colab": {
          "base_uri": "https://localhost:8080/"
        },
        "id": "L8G3iiEFrmZr",
        "outputId": "37ceaf88-a8c4-47d1-ad1c-ad099cdfab8f"
      },
      "outputs": [
        {
          "name": "stdout",
          "output_type": "stream",
          "text": [
            "Epoch 1/10\n",
            "1/1 [==============================] - 2s 2s/step - loss: 10.1226 - accuracy: 0.3438 - val_loss: 9.6406 - val_accuracy: 0.3750\n",
            "Epoch 2/10\n",
            "1/1 [==============================] - 0s 217ms/step - loss: 10.1226 - accuracy: 0.3438 - val_loss: 9.6406 - val_accuracy: 0.3750\n",
            "Epoch 3/10\n",
            "1/1 [==============================] - 0s 160ms/step - loss: 10.1226 - accuracy: 0.3438 - val_loss: 9.6406 - val_accuracy: 0.3750\n",
            "Epoch 4/10\n",
            "1/1 [==============================] - 0s 175ms/step - loss: 10.1226 - accuracy: 0.3438 - val_loss: 9.6406 - val_accuracy: 0.3750\n",
            "Epoch 5/10\n",
            "1/1 [==============================] - 0s 165ms/step - loss: 10.1226 - accuracy: 0.3438 - val_loss: 9.6406 - val_accuracy: 0.3750\n",
            "Epoch 6/10\n",
            "1/1 [==============================] - 0s 156ms/step - loss: 10.1226 - accuracy: 0.3438 - val_loss: 9.6406 - val_accuracy: 0.3750\n",
            "Epoch 7/10\n",
            "1/1 [==============================] - 0s 161ms/step - loss: 10.1226 - accuracy: 0.3438 - val_loss: 9.6406 - val_accuracy: 0.3750\n",
            "Epoch 8/10\n",
            "1/1 [==============================] - 0s 171ms/step - loss: 10.1226 - accuracy: 0.3438 - val_loss: 9.6406 - val_accuracy: 0.3750\n",
            "Epoch 9/10\n",
            "1/1 [==============================] - 0s 172ms/step - loss: 10.1226 - accuracy: 0.3438 - val_loss: 9.6406 - val_accuracy: 0.3750\n",
            "Epoch 10/10\n",
            "1/1 [==============================] - 0s 149ms/step - loss: 10.1226 - accuracy: 0.3438 - val_loss: 9.6406 - val_accuracy: 0.3750\n"
          ]
        }
      ],
      "source": [
        "# train\n",
        "\n",
        "history = model.fit(x_train,\n",
        "                    y_train,\n",
        "                    epochs=10,\n",
        "                    batch_size=128,\n",
        "                    validation_split=0.2)"
      ]
    },
    {
      "cell_type": "markdown",
      "metadata": {
        "id": "gSOjl-ZrslHm"
      },
      "source": [
        "#### 34% Accuracy"
      ]
    },
    {
      "cell_type": "code",
      "execution_count": null,
      "metadata": {
        "colab": {
          "base_uri": "https://localhost:8080/"
        },
        "id": "tLFCUHzbspPU",
        "outputId": "f2346de3-893d-4c64-dd44-994e0d566fa1"
      },
      "outputs": [
        {
          "name": "stdout",
          "output_type": "stream",
          "text": [
            "259/259 [==============================] - 9s 35ms/step\n",
            "              precision    recall  f1-score   support\n",
            "\n",
            "           0       0.45      1.00      0.62      3726\n",
            "           1       0.00      0.00      0.00      4546\n",
            "\n",
            "    accuracy                           0.45      8272\n",
            "   macro avg       0.23      0.50      0.31      8272\n",
            "weighted avg       0.20      0.45      0.28      8272\n",
            "\n"
          ]
        },
        {
          "name": "stderr",
          "output_type": "stream",
          "text": [
            "/usr/local/lib/python3.9/dist-packages/sklearn/metrics/_classification.py:1344: UndefinedMetricWarning: Precision and F-score are ill-defined and being set to 0.0 in labels with no predicted samples. Use `zero_division` parameter to control this behavior.\n",
            "  _warn_prf(average, modifier, msg_start, len(result))\n",
            "/usr/local/lib/python3.9/dist-packages/sklearn/metrics/_classification.py:1344: UndefinedMetricWarning: Precision and F-score are ill-defined and being set to 0.0 in labels with no predicted samples. Use `zero_division` parameter to control this behavior.\n",
            "  _warn_prf(average, modifier, msg_start, len(result))\n",
            "/usr/local/lib/python3.9/dist-packages/sklearn/metrics/_classification.py:1344: UndefinedMetricWarning: Precision and F-score are ill-defined and being set to 0.0 in labels with no predicted samples. Use `zero_division` parameter to control this behavior.\n",
            "  _warn_prf(average, modifier, msg_start, len(result))\n"
          ]
        }
      ],
      "source": [
        "from sklearn.metrics import classification_report\n",
        "\n",
        "pred = model.predict(x_test)\n",
        "pred = [1.0 if p>= 0.5 else 0.0 for p in pred]\n",
        "print(classification_report(y_test, pred))"
      ]
    },
    {
      "cell_type": "markdown",
      "metadata": {
        "id": "85IK42Eusyu8"
      },
      "source": [
        "#### 45% Accuracy"
      ]
    },
    {
      "cell_type": "markdown",
      "source": [
        "## Convolutional Neural Network Summary"
      ],
      "metadata": {
        "id": "prc3QBsP53-H"
      }
    },
    {
      "cell_type": "markdown",
      "source": [
        "Worst performance so far. Did not take long at all to run however produced the most poor results. "
      ],
      "metadata": {
        "id": "aYP-b4gS56_t"
      }
    },
    {
      "cell_type": "markdown",
      "metadata": {
        "id": "K0UJ8rei1QMK"
      },
      "source": [
        "# Adding Embedded Layer"
      ]
    },
    {
      "cell_type": "code",
      "execution_count": 2,
      "metadata": {
        "id": "fr1YLzfZ1TpD"
      },
      "outputs": [],
      "source": [
        "import numpy as np\n",
        "import tensorflow as tf\n",
        "from tensorflow import keras"
      ]
    },
    {
      "cell_type": "code",
      "execution_count": 5,
      "metadata": {
        "id": "iKGNrVJI1pVT"
      },
      "outputs": [],
      "source": [
        "# split df into train and test\n",
        "i = np.random.rand(len(df)) < 0.8\n",
        "train = df[i]\n",
        "test = df[~i]\n",
        "\n",
        "# set up X and Y\n",
        "num_labels = 2\n",
        "vocab_size = 500\n",
        "batch_size = 100\n",
        "\n",
        "# fit the tokenizer on the training data\n",
        "tokenizer = Tokenizer(num_words=vocab_size)\n",
        "tokenizer.fit_on_texts(train.Style)\n",
        "\n",
        "x_train = tokenizer.texts_to_matrix(train.Style, mode='tfidf')\n",
        "x_test = tokenizer.texts_to_matrix(test.Style, mode='tfidf')\n",
        "\n",
        "encoder = LabelEncoder()\n",
        "encoder.fit(train.Transmission)\n",
        "y_train = encoder.transform(train.Transmission)\n",
        "y_test = encoder.transform(test.Transmission)"
      ]
    },
    {
      "cell_type": "code",
      "execution_count": 6,
      "metadata": {
        "id": "o2CSp_eB2Jwu"
      },
      "outputs": [],
      "source": [
        "from tensorflow.keras import layers\n",
        "\n",
        "EMBEDDING_DIM = 128\n",
        "MAX_SEQUENCE_LENGTH = 200\n",
        "\n",
        "embedding_layer = layers.Embedding(len(x_train) + 1,\n",
        "                            EMBEDDING_DIM,\n",
        "                            input_length=MAX_SEQUENCE_LENGTH)"
      ]
    },
    {
      "cell_type": "code",
      "execution_count": 7,
      "metadata": {
        "colab": {
          "base_uri": "https://localhost:8080/"
        },
        "id": "q6GwAWG52Py1",
        "outputId": "9328304e-e193-4b3e-cd00-be47c7334d60"
      },
      "outputs": [
        {
          "output_type": "stream",
          "name": "stdout",
          "text": [
            "Model: \"model\"\n",
            "_________________________________________________________________\n",
            " Layer (type)                Output Shape              Param #   \n",
            "=================================================================\n",
            " input_1 (InputLayer)        [(None, None)]            0         \n",
            "                                                                 \n",
            " embedding (Embedding)       (None, None, 128)         4177664   \n",
            "                                                                 \n",
            " conv1d (Conv1D)             (None, None, 128)         82048     \n",
            "                                                                 \n",
            " max_pooling1d (MaxPooling1D  (None, None, 128)        0         \n",
            " )                                                               \n",
            "                                                                 \n",
            " conv1d_1 (Conv1D)           (None, None, 128)         82048     \n",
            "                                                                 \n",
            " max_pooling1d_1 (MaxPooling  (None, None, 128)        0         \n",
            " 1D)                                                             \n",
            "                                                                 \n",
            " conv1d_2 (Conv1D)           (None, None, 128)         82048     \n",
            "                                                                 \n",
            " global_max_pooling1d (Globa  (None, 128)              0         \n",
            " lMaxPooling1D)                                                  \n",
            "                                                                 \n",
            " dense (Dense)               (None, 128)               16512     \n",
            "                                                                 \n",
            " dropout (Dropout)           (None, 128)               0         \n",
            "                                                                 \n",
            " dense_1 (Dense)             (None, 32637)             4210173   \n",
            "                                                                 \n",
            "=================================================================\n",
            "Total params: 8,650,493\n",
            "Trainable params: 8,650,493\n",
            "Non-trainable params: 0\n",
            "_________________________________________________________________\n"
          ]
        }
      ],
      "source": [
        "# add more layers\n",
        "\n",
        "int_sequences_input = keras.Input(shape=(None,), dtype=\"int64\")\n",
        "embedded_sequences = embedding_layer(int_sequences_input)\n",
        "x = layers.Conv1D(128, 5, activation=\"relu\")(embedded_sequences)\n",
        "x = layers.MaxPooling1D(5)(x)\n",
        "x = layers.Conv1D(128, 5, activation=\"relu\")(x)\n",
        "x = layers.MaxPooling1D(5)(x)\n",
        "x = layers.Conv1D(128, 5, activation=\"relu\")(x)\n",
        "x = layers.GlobalMaxPooling1D()(x)\n",
        "x = layers.Dense(128, activation=\"relu\")(x)\n",
        "x = layers.Dropout(0.5)(x)\n",
        "preds = layers.Dense(len(x_train), activation=\"softmax\")(x)\n",
        "model = keras.Model(int_sequences_input, preds)\n",
        "model.summary()"
      ]
    },
    {
      "cell_type": "code",
      "execution_count": 8,
      "metadata": {
        "colab": {
          "base_uri": "https://localhost:8080/"
        },
        "id": "Nneljn732VrK",
        "outputId": "33c52d0e-37af-41d2-c6c9-b8d6a0fb9308"
      },
      "outputs": [
        {
          "output_type": "stream",
          "name": "stdout",
          "text": [
            "Epoch 1/20\n",
            "255/255 [==============================] - 460s 2s/step - loss: 1.0423 - acc: 0.5096 - val_loss: 0.6985 - val_acc: 0.4518\n",
            "Epoch 2/20\n",
            "255/255 [==============================] - 439s 2s/step - loss: 0.7368 - acc: 0.5057 - val_loss: 0.6904 - val_acc: 0.5482\n",
            "Epoch 3/20\n",
            "255/255 [==============================] - 442s 2s/step - loss: 0.7259 - acc: 0.5190 - val_loss: 0.6886 - val_acc: 0.5482\n",
            "Epoch 4/20\n",
            "255/255 [==============================] - 450s 2s/step - loss: 0.7216 - acc: 0.5174 - val_loss: 0.7276 - val_acc: 0.4518\n",
            "Epoch 5/20\n",
            "255/255 [==============================] - 453s 2s/step - loss: 0.7165 - acc: 0.5176 - val_loss: 0.6890 - val_acc: 0.5482\n",
            "Epoch 6/20\n",
            "255/255 [==============================] - 457s 2s/step - loss: 0.7155 - acc: 0.5189 - val_loss: 0.7077 - val_acc: 0.5482\n",
            "Epoch 7/20\n",
            "255/255 [==============================] - 458s 2s/step - loss: 0.7137 - acc: 0.5137 - val_loss: 0.6944 - val_acc: 0.4518\n",
            "Epoch 8/20\n",
            "255/255 [==============================] - 456s 2s/step - loss: 0.7119 - acc: 0.5133 - val_loss: 0.6935 - val_acc: 0.5482\n",
            "Epoch 9/20\n",
            "255/255 [==============================] - 452s 2s/step - loss: 0.7110 - acc: 0.5186 - val_loss: 0.6906 - val_acc: 0.5482\n",
            "Epoch 10/20\n",
            "255/255 [==============================] - 453s 2s/step - loss: 0.6947 - acc: 0.5466 - val_loss: 0.6535 - val_acc: 0.6152\n",
            "Epoch 11/20\n",
            "255/255 [==============================] - 453s 2s/step - loss: 0.6614 - acc: 0.6235 - val_loss: 0.6233 - val_acc: 0.6517\n",
            "Epoch 12/20\n",
            "255/255 [==============================] - 454s 2s/step - loss: 0.6451 - acc: 0.6463 - val_loss: 0.6330 - val_acc: 0.6516\n",
            "Epoch 13/20\n",
            "255/255 [==============================] - 404s 2s/step - loss: 0.6381 - acc: 0.6495 - val_loss: 0.6164 - val_acc: 0.6644\n",
            "Epoch 14/20\n",
            "255/255 [==============================] - 405s 2s/step - loss: 0.6359 - acc: 0.6538 - val_loss: 0.6168 - val_acc: 0.6516\n",
            "Epoch 15/20\n",
            "255/255 [==============================] - 456s 2s/step - loss: 0.6345 - acc: 0.6520 - val_loss: 0.6187 - val_acc: 0.6516\n",
            "Epoch 16/20\n",
            "255/255 [==============================] - 456s 2s/step - loss: 0.6342 - acc: 0.6568 - val_loss: 0.6146 - val_acc: 0.6516\n",
            "Epoch 17/20\n",
            "255/255 [==============================] - 451s 2s/step - loss: 0.6305 - acc: 0.6562 - val_loss: 0.6154 - val_acc: 0.6637\n",
            "Epoch 18/20\n",
            "255/255 [==============================] - 450s 2s/step - loss: 0.6314 - acc: 0.6549 - val_loss: 0.6168 - val_acc: 0.6634\n",
            "Epoch 19/20\n",
            "255/255 [==============================] - 450s 2s/step - loss: 0.6313 - acc: 0.6539 - val_loss: 0.6194 - val_acc: 0.6634\n",
            "Epoch 20/20\n",
            "255/255 [==============================] - 450s 2s/step - loss: 0.6293 - acc: 0.6567 - val_loss: 0.6142 - val_acc: 0.6634\n"
          ]
        },
        {
          "output_type": "execute_result",
          "data": {
            "text/plain": [
              "<keras.callbacks.History at 0x7fd5c4fed5b0>"
            ]
          },
          "metadata": {},
          "execution_count": 8
        }
      ],
      "source": [
        "model.compile(\n",
        "    loss=\"sparse_categorical_crossentropy\", optimizer=\"rmsprop\", metrics=[\"acc\"]\n",
        ")\n",
        "model.fit(x_train, y_train, batch_size=128, epochs=20, validation_data=(x_train, y_train))\n"
      ]
    },
    {
      "cell_type": "markdown",
      "source": [
        "#### Accuracy 67% (Took 3hrs to finish running)"
      ],
      "metadata": {
        "id": "C8Ep-LIJ32K8"
      }
    },
    {
      "cell_type": "markdown",
      "source": [
        "## Summary"
      ],
      "metadata": {
        "id": "ygVpiFro4LaK"
      }
    },
    {
      "cell_type": "markdown",
      "source": [
        "Adding an embedded layer produced mid range results. However I do not think adding the embedded layer was worth while because it took about 3hrs to fully complete and didn ot give results enough to impress me. Similar results came from running the Recurrent Neural Network. And even then the resulting accuracy was still higher. Overall, sequential networking seems to be the best in terms of highest accuracy and lowest runtime for the size of the given dataset."
      ],
      "metadata": {
        "id": "jkPYU3Fu4Mc7"
      }
    }
  ],
  "metadata": {
    "colab": {
      "toc_visible": true,
      "provenance": []
    },
    "kernelspec": {
      "display_name": "Python 3",
      "name": "python3"
    },
    "language_info": {
      "name": "python"
    }
  },
  "nbformat": 4,
  "nbformat_minor": 0
}