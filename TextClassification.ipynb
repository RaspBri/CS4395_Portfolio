{
  "nbformat": 4,
  "nbformat_minor": 0,
  "metadata": {
    "colab": {
      "provenance": [],
      "toc_visible": true
    },
    "kernelspec": {
      "name": "python3",
      "display_name": "Python 3"
    },
    "language_info": {
      "name": "python"
    }
  },
  "cells": [
    {
      "cell_type": "code",
      "execution_count": null,
      "metadata": {
        "id": "TPiToXSKmHQ0"
      },
      "outputs": [],
      "source": [
        "# Using sklearn for classification prediciton on:\n",
        "# Naïve Bayes\n",
        "# Logistic Regression\n",
        "# Neural Networks"
      ]
    },
    {
      "cell_type": "markdown",
      "source": [
        "# Import External Data"
      ],
      "metadata": {
        "id": "pi5nK-3Jrse2"
      }
    },
    {
      "cell_type": "code",
      "source": [
        "# Import external file\n",
        "from google.colab import drive\n",
        "drive.mount('/content/drive')"
      ],
      "metadata": {
        "colab": {
          "base_uri": "https://localhost:8080/"
        },
        "id": "fsjyx0OWseu2",
        "outputId": "10b0ff3e-a985-407b-d7c7-a6c6af5128d4"
      },
      "execution_count": 1,
      "outputs": [
        {
          "output_type": "stream",
          "name": "stdout",
          "text": [
            "Mounted at /content/drive\n"
          ]
        }
      ]
    },
    {
      "cell_type": "code",
      "source": [
        "import pandas as pd\n",
        "df = pd.read_csv('/content/drive/MyDrive/Colab Notebooks/mood.csv', header = 0, encoding='latin-1')\n",
        "print('rows and columns:', df.shape)\n",
        "df.head() # preview first 5 rows of data"
      ],
      "metadata": {
        "colab": {
          "base_uri": "https://localhost:8080/",
          "height": 221
        },
        "id": "I2PORrnjsunv",
        "outputId": "570fbec9-ffb7-4ee7-ec13-5322687e268a"
      },
      "execution_count": 2,
      "outputs": [
        {
          "output_type": "stream",
          "name": "stdout",
          "text": [
            "rows and columns: (940, 7)\n"
          ]
        },
        {
          "output_type": "execute_result",
          "data": {
            "text/plain": [
              "    full_date    date    weekday     time   sub_mood  \\\n",
              "0  16/04/2021  Apr-16     Friday  8:00 pm       yolo   \n",
              "1  15/04/2021  Apr-15   Thursday  2:37 am   focused    \n",
              "2  14/04/2021  Apr-14  Wednesday  2:39 am  confused    \n",
              "3  13/04/2021  Apr-13    Tuesday  2:38 am  wondering   \n",
              "4  12/04/2021  Apr-12     Monday  9:52 pm      angry   \n",
              "\n",
              "                                          activities    mood  \n",
              "0  reading | Art | prayer | fasting  | walk | med...    Good  \n",
              "1  reading | learning  | Art | prayer | fasting  ...    Good  \n",
              "2  reading | learning  | prayer | fasting  | Qura...  Normal  \n",
              "3  reading | learning  | Art | prayer | fasting  ...  Normal  \n",
              "4  reading | learning  | fasting  | walk | medita...   Awful  "
            ],
            "text/html": [
              "\n",
              "  <div id=\"df-b430ffcd-da99-4dcb-9e9c-8485c8a56de3\">\n",
              "    <div class=\"colab-df-container\">\n",
              "      <div>\n",
              "<style scoped>\n",
              "    .dataframe tbody tr th:only-of-type {\n",
              "        vertical-align: middle;\n",
              "    }\n",
              "\n",
              "    .dataframe tbody tr th {\n",
              "        vertical-align: top;\n",
              "    }\n",
              "\n",
              "    .dataframe thead th {\n",
              "        text-align: right;\n",
              "    }\n",
              "</style>\n",
              "<table border=\"1\" class=\"dataframe\">\n",
              "  <thead>\n",
              "    <tr style=\"text-align: right;\">\n",
              "      <th></th>\n",
              "      <th>full_date</th>\n",
              "      <th>date</th>\n",
              "      <th>weekday</th>\n",
              "      <th>time</th>\n",
              "      <th>sub_mood</th>\n",
              "      <th>activities</th>\n",
              "      <th>mood</th>\n",
              "    </tr>\n",
              "  </thead>\n",
              "  <tbody>\n",
              "    <tr>\n",
              "      <th>0</th>\n",
              "      <td>16/04/2021</td>\n",
              "      <td>Apr-16</td>\n",
              "      <td>Friday</td>\n",
              "      <td>8:00 pm</td>\n",
              "      <td>yolo</td>\n",
              "      <td>reading | Art | prayer | fasting  | walk | med...</td>\n",
              "      <td>Good</td>\n",
              "    </tr>\n",
              "    <tr>\n",
              "      <th>1</th>\n",
              "      <td>15/04/2021</td>\n",
              "      <td>Apr-15</td>\n",
              "      <td>Thursday</td>\n",
              "      <td>2:37 am</td>\n",
              "      <td>focused</td>\n",
              "      <td>reading | learning  | Art | prayer | fasting  ...</td>\n",
              "      <td>Good</td>\n",
              "    </tr>\n",
              "    <tr>\n",
              "      <th>2</th>\n",
              "      <td>14/04/2021</td>\n",
              "      <td>Apr-14</td>\n",
              "      <td>Wednesday</td>\n",
              "      <td>2:39 am</td>\n",
              "      <td>confused</td>\n",
              "      <td>reading | learning  | prayer | fasting  | Qura...</td>\n",
              "      <td>Normal</td>\n",
              "    </tr>\n",
              "    <tr>\n",
              "      <th>3</th>\n",
              "      <td>13/04/2021</td>\n",
              "      <td>Apr-13</td>\n",
              "      <td>Tuesday</td>\n",
              "      <td>2:38 am</td>\n",
              "      <td>wondering</td>\n",
              "      <td>reading | learning  | Art | prayer | fasting  ...</td>\n",
              "      <td>Normal</td>\n",
              "    </tr>\n",
              "    <tr>\n",
              "      <th>4</th>\n",
              "      <td>12/04/2021</td>\n",
              "      <td>Apr-12</td>\n",
              "      <td>Monday</td>\n",
              "      <td>9:52 pm</td>\n",
              "      <td>angry</td>\n",
              "      <td>reading | learning  | fasting  | walk | medita...</td>\n",
              "      <td>Awful</td>\n",
              "    </tr>\n",
              "  </tbody>\n",
              "</table>\n",
              "</div>\n",
              "      <button class=\"colab-df-convert\" onclick=\"convertToInteractive('df-b430ffcd-da99-4dcb-9e9c-8485c8a56de3')\"\n",
              "              title=\"Convert this dataframe to an interactive table.\"\n",
              "              style=\"display:none;\">\n",
              "        \n",
              "  <svg xmlns=\"http://www.w3.org/2000/svg\" height=\"24px\"viewBox=\"0 0 24 24\"\n",
              "       width=\"24px\">\n",
              "    <path d=\"M0 0h24v24H0V0z\" fill=\"none\"/>\n",
              "    <path d=\"M18.56 5.44l.94 2.06.94-2.06 2.06-.94-2.06-.94-.94-2.06-.94 2.06-2.06.94zm-11 1L8.5 8.5l.94-2.06 2.06-.94-2.06-.94L8.5 2.5l-.94 2.06-2.06.94zm10 10l.94 2.06.94-2.06 2.06-.94-2.06-.94-.94-2.06-.94 2.06-2.06.94z\"/><path d=\"M17.41 7.96l-1.37-1.37c-.4-.4-.92-.59-1.43-.59-.52 0-1.04.2-1.43.59L10.3 9.45l-7.72 7.72c-.78.78-.78 2.05 0 2.83L4 21.41c.39.39.9.59 1.41.59.51 0 1.02-.2 1.41-.59l7.78-7.78 2.81-2.81c.8-.78.8-2.07 0-2.86zM5.41 20L4 18.59l7.72-7.72 1.47 1.35L5.41 20z\"/>\n",
              "  </svg>\n",
              "      </button>\n",
              "      \n",
              "  <style>\n",
              "    .colab-df-container {\n",
              "      display:flex;\n",
              "      flex-wrap:wrap;\n",
              "      gap: 12px;\n",
              "    }\n",
              "\n",
              "    .colab-df-convert {\n",
              "      background-color: #E8F0FE;\n",
              "      border: none;\n",
              "      border-radius: 50%;\n",
              "      cursor: pointer;\n",
              "      display: none;\n",
              "      fill: #1967D2;\n",
              "      height: 32px;\n",
              "      padding: 0 0 0 0;\n",
              "      width: 32px;\n",
              "    }\n",
              "\n",
              "    .colab-df-convert:hover {\n",
              "      background-color: #E2EBFA;\n",
              "      box-shadow: 0px 1px 2px rgba(60, 64, 67, 0.3), 0px 1px 3px 1px rgba(60, 64, 67, 0.15);\n",
              "      fill: #174EA6;\n",
              "    }\n",
              "\n",
              "    [theme=dark] .colab-df-convert {\n",
              "      background-color: #3B4455;\n",
              "      fill: #D2E3FC;\n",
              "    }\n",
              "\n",
              "    [theme=dark] .colab-df-convert:hover {\n",
              "      background-color: #434B5C;\n",
              "      box-shadow: 0px 1px 3px 1px rgba(0, 0, 0, 0.15);\n",
              "      filter: drop-shadow(0px 1px 2px rgba(0, 0, 0, 0.3));\n",
              "      fill: #FFFFFF;\n",
              "    }\n",
              "  </style>\n",
              "\n",
              "      <script>\n",
              "        const buttonEl =\n",
              "          document.querySelector('#df-b430ffcd-da99-4dcb-9e9c-8485c8a56de3 button.colab-df-convert');\n",
              "        buttonEl.style.display =\n",
              "          google.colab.kernel.accessAllowed ? 'block' : 'none';\n",
              "\n",
              "        async function convertToInteractive(key) {\n",
              "          const element = document.querySelector('#df-b430ffcd-da99-4dcb-9e9c-8485c8a56de3');\n",
              "          const dataTable =\n",
              "            await google.colab.kernel.invokeFunction('convertToInteractive',\n",
              "                                                     [key], {});\n",
              "          if (!dataTable) return;\n",
              "\n",
              "          const docLinkHtml = 'Like what you see? Visit the ' +\n",
              "            '<a target=\"_blank\" href=https://colab.research.google.com/notebooks/data_table.ipynb>data table notebook</a>'\n",
              "            + ' to learn more about interactive tables.';\n",
              "          element.innerHTML = '';\n",
              "          dataTable['output_type'] = 'display_data';\n",
              "          await google.colab.output.renderOutput(dataTable, element);\n",
              "          const docLink = document.createElement('div');\n",
              "          docLink.innerHTML = docLinkHtml;\n",
              "          element.appendChild(docLink);\n",
              "        }\n",
              "      </script>\n",
              "    </div>\n",
              "  </div>\n",
              "  "
            ]
          },
          "metadata": {},
          "execution_count": 2
        }
      ]
    },
    {
      "cell_type": "markdown",
      "source": [
        "### Graph"
      ],
      "metadata": {
        "id": "8g1wM-BC3xIr"
      }
    },
    {
      "cell_type": "markdown",
      "source": [
        "Daylio Mood Tracker - https://www.kaggle.com/datasets/kingabzpro/daylio-mood-tracker\n",
        "\n",
        "Dataset composed of a person's personal data which tracked their mood all year from 2/3/2018 to 4/16/2021. Poster was also searching for someone to analyze the data and inform them on what activities effect their mood the most."
      ],
      "metadata": {
        "id": "LsrfW1GI77z1"
      }
    },
    {
      "cell_type": "code",
      "source": [
        "import seaborn as sns\n",
        "sns.histplot(df.mood, kde=True)"
      ],
      "metadata": {
        "colab": {
          "base_uri": "https://localhost:8080/",
          "height": 466
        },
        "id": "ZaSa4rAr3vlo",
        "outputId": "1a5a3e3a-d7f4-4dbc-bcf3-c68b3ecfc612"
      },
      "execution_count": 3,
      "outputs": [
        {
          "output_type": "execute_result",
          "data": {
            "text/plain": [
              "<Axes: xlabel='mood', ylabel='Count'>"
            ]
          },
          "metadata": {},
          "execution_count": 3
        },
        {
          "output_type": "display_data",
          "data": {
            "text/plain": [
              "<Figure size 640x480 with 1 Axes>"
            ],
            "image/png": "[encoded data removed]"
          },
          "metadata": {}
        }
      ]
    },
    {
      "cell_type": "markdown",
      "source": [
        "# Naïve Bayes"
      ],
      "metadata": {
        "id": "PiuySn-wu3A2"
      }
    },
    {
      "cell_type": "code",
      "source": [
        "# Show mood.csv data\n",
        "print('rows & columns:', df.shape)\n",
        "print(df)"
      ],
      "metadata": {
        "colab": {
          "base_uri": "https://localhost:8080/"
        },
        "id": "6raajza-u4na",
        "outputId": "2e8d1cf5-ccd8-4692-ec44-197d7ee83a77"
      },
      "execution_count": 5,
      "outputs": [
        {
          "output_type": "stream",
          "name": "stdout",
          "text": [
            "rows & columns: (940, 7)\n",
            "      full_date    date    weekday      time   sub_mood  \\\n",
            "0    16/04/2021  Apr-16     Friday   8:00 pm       yolo   \n",
            "1    15/04/2021  Apr-15   Thursday   2:37 am   focused    \n",
            "2    14/04/2021  Apr-14  Wednesday   2:39 am  confused    \n",
            "3    13/04/2021  Apr-13    Tuesday   2:38 am  wondering   \n",
            "4    12/04/2021  Apr-12     Monday   9:52 pm      angry   \n",
            "..          ...     ...        ...       ...        ...   \n",
            "935  04/02/2018  Feb-04     Sunday   8:19 pm       yolo   \n",
            "936  04/02/2018  Feb-04     Sunday  11:23 am        meh   \n",
            "937  04/02/2018  Feb-04     Sunday   6:34 am   blessed    \n",
            "938  03/02/2018  Feb-03   Saturday   7:52 pm      angry   \n",
            "939  03/02/2018  Feb-03   Saturday   3:12 pm        meh   \n",
            "\n",
            "                                            activities    mood  \n",
            "0    reading | Art | prayer | fasting  | walk | med...    Good  \n",
            "1    reading | learning  | Art | prayer | fasting  ...    Good  \n",
            "2    reading | learning  | prayer | fasting  | Qura...  Normal  \n",
            "3    reading | learning  | Art | prayer | fasting  ...  Normal  \n",
            "4    reading | learning  | fasting  | walk | medita...   Awful  \n",
            "..                                                 ...     ...  \n",
            "935  Write dairy  | walk | meditation  | Audio book...    Good  \n",
            "936                  meditation  | youtube | research   Normal  \n",
            "937              prayer | good meal | youtube | movies    Good  \n",
            "938      Write dairy  | Dota 2 | streaming  | shopping   Awful  \n",
            "939  walk | meditation  | Dota 2 | Audio books  | s...  Normal  \n",
            "\n",
            "[940 rows x 7 columns]\n"
          ]
        }
      ]
    },
    {
      "cell_type": "code",
      "source": [
        "# Preprocess Text\n",
        "import nltk\n",
        "nltk.download('stopwords')\n",
        "\n",
        "from nltk.corpus import stopwords\n",
        "from sklearn.feature_extraction.text import TfidfVectorizer\n",
        "\n",
        "df['activities'] = df['activities'].str.replace('|','', regex = True) # remove | symbol\n",
        "#print(df)\n",
        "\n",
        "stopwords = set(stopwords.words('english'))\n",
        "vectorizer = TfidfVectorizer(stop_words=list(stopwords))\n",
        "\n",
        "X = df.activities\n",
        "y = df.mood\n",
        "#print('X.head()\\n', X.head())\n",
        "#print('y[:10]\\n', y[:10])"
      ],
      "metadata": {
        "colab": {
          "base_uri": "https://localhost:8080/"
        },
        "id": "Lc9dDJnhHajd",
        "outputId": "c68832a3-b1f7-42e2-e39d-1432d33180ef"
      },
      "execution_count": 6,
      "outputs": [
        {
          "output_type": "stream",
          "name": "stderr",
          "text": [
            "[nltk_data] Downloading package stopwords to /root/nltk_data...\n",
            "[nltk_data]   Unzipping corpora/stopwords.zip.\n"
          ]
        }
      ]
    },
    {
      "cell_type": "code",
      "source": [
        "# Train and Test\n",
        "from sklearn.model_selection import train_test_split\n",
        "X_train, X_test, y_train, y_test = train_test_split(X, y, test_size=0.2, train_size=0.8, random_state=1234)\n",
        "\n",
        "X_train.shape"
      ],
      "metadata": {
        "colab": {
          "base_uri": "https://localhost:8080/"
        },
        "id": "dsLXI8LnQ3QV",
        "outputId": "3cd7db28-bb3e-4852-c5b2-f71dcb447408"
      },
      "execution_count": 7,
      "outputs": [
        {
          "output_type": "execute_result",
          "data": {
            "text/plain": [
              "(752,)"
            ]
          },
          "metadata": {},
          "execution_count": 7
        }
      ]
    },
    {
      "cell_type": "code",
      "source": [
        "# apply tfidf vectorizer\n",
        "# NOTE: ONLY WORKS WHEN PREPROCESSED TEXT, TRAIN & TEST IS RUN FIRST IN SEQUENTIAL ORDER\n",
        "X_train = vectorizer.fit_transform(X_train.values.astype('U')) # convert to unicode\n",
        "X_test = vectorizer.transform(X_test.values.astype('U'))        "
      ],
      "metadata": {
        "id": "vUAERDwnf-5y"
      },
      "execution_count": 8,
      "outputs": []
    },
    {
      "cell_type": "code",
      "source": [
        "# print results of training\n",
        "print('train size:', X_train.shape)\n",
        "print(X_train.toarray()[:5])\n",
        "\n",
        "print('\\ntest size:', X_test.shape)\n",
        "print(X_test.toarray()[:5])"
      ],
      "metadata": {
        "colab": {
          "base_uri": "https://localhost:8080/"
        },
        "id": "uYdzVed8jBXJ",
        "outputId": "c7ade0c8-4ace-4f81-c6cb-4477b6802e23"
      },
      "execution_count": 9,
      "outputs": [
        {
          "output_type": "stream",
          "name": "stdout",
          "text": [
            "train size: (752, 67)\n",
            "[[0.         0.15019743 0.15019743 0.         0.         0.\n",
            "  0.         0.         0.         0.2175581  0.         0.\n",
            "  0.         0.         0.1642238  0.50433889 0.         0.14565226\n",
            "  0.         0.         0.         0.         0.         0.31337414\n",
            "  0.         0.         0.         0.         0.14565226 0.15131136\n",
            "  0.         0.         0.18460079 0.         0.15779443 0.\n",
            "  0.18747328 0.         0.         0.         0.18460079 0.18304056\n",
            "  0.27127402 0.         0.         0.15334887 0.         0.\n",
            "  0.15403755 0.         0.         0.17388436 0.21581341 0.12754859\n",
            "  0.         0.         0.         0.         0.15779443 0.\n",
            "  0.15636869 0.15403755 0.         0.         0.         0.\n",
            "  0.11832317]\n",
            " [0.         0.23425352 0.23425352 0.         0.         0.\n",
            "  0.         0.         0.         0.         0.         0.\n",
            "  0.         0.         0.25612957 0.         0.         0.2271647\n",
            "  0.         0.         0.         0.         0.         0.48875001\n",
            "  0.         0.         0.         0.         0.2271647  0.23599085\n",
            "  0.         0.         0.         0.         0.24610208 0.\n",
            "  0.         0.         0.         0.         0.         0.\n",
            "  0.         0.         0.         0.23916862 0.         0.\n",
            "  0.24024272 0.         0.         0.         0.         0.19892954\n",
            "  0.         0.         0.         0.         0.24610208 0.\n",
            "  0.24387845 0.24024272 0.         0.         0.         0.\n",
            "  0.18454124]\n",
            " [0.         0.         0.         0.         0.         0.\n",
            "  0.         0.         0.         0.         0.         0.\n",
            "  0.         0.         0.         0.         0.         0.\n",
            "  0.         0.         0.         0.         0.         0.\n",
            "  0.         0.         0.         0.         0.         0.38267714\n",
            "  0.         0.         0.         0.         0.39907327 0.\n",
            "  0.47413321 0.         0.         0.         0.         0.\n",
            "  0.         0.55698919 0.         0.         0.         0.\n",
            "  0.         0.         0.         0.         0.         0.\n",
            "  0.         0.         0.         0.         0.39907327 0.\n",
            "  0.         0.         0.         0.         0.         0.\n",
            "  0.        ]\n",
            " [0.         0.16040979 0.16040979 0.27892002 0.         0.\n",
            "  0.         0.         0.         0.         0.         0.\n",
            "  0.         0.38098943 0.         0.         0.         0.15555558\n",
            "  0.         0.         0.         0.         0.         0.\n",
            "  0.22163729 0.21230576 0.         0.         0.15555558 0.16159946\n",
            "  0.         0.         0.19715234 0.         0.16852333 0.\n",
            "  0.         0.         0.         0.         0.19715234 0.19548602\n",
            "  0.28971873 0.23520912 0.         0.1637755  0.         0.\n",
            "  0.16451101 0.         0.         0.         0.23048719 0.13622099\n",
            "  0.         0.         0.         0.         0.16852333 0.\n",
            "  0.16700065 0.16451101 0.         0.         0.21995358 0.\n",
            "  0.12636831]\n",
            " [0.         0.         0.         0.         0.2328179  0.24627141\n",
            "  0.         0.         0.         0.         0.         0.\n",
            "  0.         0.         0.         0.         0.         0.14793394\n",
            "  0.         0.         0.         0.         0.         0.\n",
            "  0.21077789 0.40380715 0.         0.29991297 0.14793394 0.\n",
            "  0.         0.         0.18749261 0.21659385 0.16026632 0.\n",
            "  0.1904101  0.         0.         0.         0.18749261 0.\n",
            "  0.         0.         0.36801957 0.15575112 0.         0.22007626\n",
            "  0.         0.         0.         0.         0.         0.12954667\n",
            "  0.21659385 0.         0.         0.22984234 0.16026632 0.\n",
            "  0.         0.         0.         0.         0.         0.\n",
            "  0.12017674]]\n",
            "\n",
            "test size: (188, 67)\n",
            "[[0.         0.14167022 0.14167022 0.24633572 0.21621301 0.\n",
            "  0.         0.         0.21954476 0.         0.         0.\n",
            "  0.         0.         0.15490027 0.         0.         0.13738309\n",
            "  0.         0.         0.         0.         0.         0.\n",
            "  0.19574493 0.18750354 0.         0.         0.13738309 0.14272091\n",
            "  0.31245942 0.         0.17412039 0.20114609 0.         0.\n",
            "  0.1768298  0.         0.         0.         0.17412039 0.17264874\n",
            "  0.         0.20773126 0.         0.14464274 0.         0.20438013\n",
            "  0.14529232 0.         0.         0.16401236 0.20356096 0.12030723\n",
            "  0.20114609 0.         0.         0.21344968 0.         0.\n",
            "  0.14749112 0.14529232 0.         0.         0.19425791 0.\n",
            "  0.11160557]\n",
            " [0.         0.         0.         0.         0.         0.\n",
            "  0.         0.         0.         0.50997509 0.         0.\n",
            "  0.         0.         0.         0.         0.         0.\n",
            "  0.         0.         0.         0.         0.         0.\n",
            "  0.         0.         0.         0.         0.         0.\n",
            "  0.         0.         0.         0.         0.         0.\n",
            "  0.         0.         0.55925318 0.         0.         0.42906298\n",
            "  0.         0.         0.         0.         0.         0.\n",
            "  0.         0.         0.         0.40760004 0.         0.\n",
            "  0.         0.         0.         0.         0.         0.\n",
            "  0.         0.         0.         0.         0.         0.\n",
            "  0.2773598 ]\n",
            " [0.         0.12215906 0.12215906 0.21240979 0.18643565 0.19720894\n",
            "  0.         0.24257068 0.18930854 0.         0.         0.\n",
            "  0.         0.         0.         0.         0.         0.11846237\n",
            "  0.         0.         0.         0.         0.         0.\n",
            "  0.16878648 0.32336023 0.         0.24016397 0.11846237 0.\n",
            "  0.26942678 0.         0.15014012 0.17344378 0.12833788 0.\n",
            "  0.15247639 0.         0.19404299 0.         0.15014012 0.\n",
            "  0.         0.         0.2947023  0.1247222  0.         0.17623242\n",
            "  0.         0.         0.         0.1414242  0.17552607 0.10373824\n",
            "  0.17344378 0.         0.         0.18405289 0.12833788 0.\n",
            "  0.         0.         0.         0.         0.16750426 0.\n",
            "  0.09623499]\n",
            " [0.         0.4611756  0.4611756  0.         0.         0.\n",
            "  0.         0.         0.         0.         0.         0.\n",
            "  0.         0.         0.         0.         0.         0.\n",
            "  0.         0.         0.         0.         0.         0.\n",
            "  0.         0.         0.         0.         0.         0.\n",
            "  0.         0.         0.         0.         0.         0.\n",
            "  0.         0.         0.         0.         0.         0.\n",
            "  0.         0.         0.         0.         0.         0.66531364\n",
            "  0.         0.         0.         0.         0.         0.\n",
            "  0.         0.         0.         0.         0.         0.\n",
            "  0.         0.         0.         0.         0.         0.\n",
            "  0.3633069 ]\n",
            " [0.         0.18913443 0.18913443 0.         0.         0.\n",
            "  0.         0.         0.         0.         0.         0.\n",
            "  0.         0.         0.20679698 0.         0.         0.18341098\n",
            "  0.         0.         0.         0.         0.         0.\n",
            "  0.         0.         0.37306677 0.         0.18341098 0.19053714\n",
            "  0.41714368 0.         0.         0.         0.         0.\n",
            "  0.23607364 0.         0.         0.         0.         0.\n",
            "  0.         0.27732811 0.         0.         0.         0.\n",
            "  0.19397006 0.         0.         0.         0.27176062 0.16061413\n",
            "  0.         0.         0.         0.         0.         0.\n",
            "  0.         0.19397006 0.37306677 0.         0.         0.\n",
            "  0.14899713]]\n"
          ]
        }
      ]
    },
    {
      "cell_type": "code",
      "source": [
        "# naive bayes classifier\n",
        "from sklearn.naive_bayes import MultinomialNB\n",
        "\n",
        "naive_bayes = MultinomialNB()\n",
        "naive_bayes.fit(X_train, y_train)"
      ],
      "metadata": {
        "colab": {
          "base_uri": "https://localhost:8080/",
          "height": 74
        },
        "id": "iLbR3B22jXJo",
        "outputId": "b0d76a42-c5d8-4f3f-e391-593754ba11ff"
      },
      "execution_count": 10,
      "outputs": [
        {
          "output_type": "execute_result",
          "data": {
            "text/plain": [
              "MultinomialNB()"
            ],
            "text/html": [
              "<style>#sk-container-id-1 {color: black;background-color: white;}#sk-container-id-1 pre{padding: 0;}#sk-container-id-1 div.sk-toggleable {background-color: white;}#sk-container-id-1 label.sk-toggleable__label {cursor: pointer;display: block;width: 100%;margin-bottom: 0;padding: 0.3em;box-sizing: border-box;text-align: center;}#sk-container-id-1 label.sk-toggleable__label-arrow:before {content: \"▸\";float: left;margin-right: 0.25em;color: #696969;}#sk-container-id-1 label.sk-toggleable__label-arrow:hover:before {color: black;}#sk-container-id-1 div.sk-estimator:hover label.sk-toggleable__label-arrow:before {color: black;}#sk-container-id-1 div.sk-toggleable__content {max-height: 0;max-width: 0;overflow: hidden;text-align: left;background-color: #f0f8ff;}#sk-container-id-1 div.sk-toggleable__content pre {margin: 0.2em;color: black;border-radius: 0.25em;background-color: #f0f8ff;}#sk-container-id-1 input.sk-toggleable__control:checked~div.sk-toggleable__content {max-height: 200px;max-width: 100%;overflow: auto;}#sk-container-id-1 input.sk-toggleable__control:checked~label.sk-toggleable__label-arrow:before {content: \"▾\";}#sk-container-id-1 div.sk-estimator input.sk-toggleable__control:checked~label.sk-toggleable__label {background-color: #d4ebff;}#sk-container-id-1 div.sk-label input.sk-toggleable__control:checked~label.sk-toggleable__label {background-color: #d4ebff;}#sk-container-id-1 input.sk-hidden--visually {border: 0;clip: rect(1px 1px 1px 1px);clip: rect(1px, 1px, 1px, 1px);height: 1px;margin: -1px;overflow: hidden;padding: 0;position: absolute;width: 1px;}#sk-container-id-1 div.sk-estimator {font-family: monospace;background-color: #f0f8ff;border: 1px dotted black;border-radius: 0.25em;box-sizing: border-box;margin-bottom: 0.5em;}#sk-container-id-1 div.sk-estimator:hover {background-color: #d4ebff;}#sk-container-id-1 div.sk-parallel-item::after {content: \"\";width: 100%;border-bottom: 1px solid gray;flex-grow: 1;}#sk-container-id-1 div.sk-label:hover label.sk-toggleable__label {background-color: #d4ebff;}#sk-container-id-1 div.sk-serial::before {content: \"\";position: absolute;border-left: 1px solid gray;box-sizing: border-box;top: 0;bottom: 0;left: 50%;z-index: 0;}#sk-container-id-1 div.sk-serial {display: flex;flex-direction: column;align-items: center;background-color: white;padding-right: 0.2em;padding-left: 0.2em;position: relative;}#sk-container-id-1 div.sk-item {position: relative;z-index: 1;}#sk-container-id-1 div.sk-parallel {display: flex;align-items: stretch;justify-content: center;background-color: white;position: relative;}#sk-container-id-1 div.sk-item::before, #sk-container-id-1 div.sk-parallel-item::before {content: \"\";position: absolute;border-left: 1px solid gray;box-sizing: border-box;top: 0;bottom: 0;left: 50%;z-index: -1;}#sk-container-id-1 div.sk-parallel-item {display: flex;flex-direction: column;z-index: 1;position: relative;background-color: white;}#sk-container-id-1 div.sk-parallel-item:first-child::after {align-self: flex-end;width: 50%;}#sk-container-id-1 div.sk-parallel-item:last-child::after {align-self: flex-start;width: 50%;}#sk-container-id-1 div.sk-parallel-item:only-child::after {width: 0;}#sk-container-id-1 div.sk-dashed-wrapped {border: 1px dashed gray;margin: 0 0.4em 0.5em 0.4em;box-sizing: border-box;padding-bottom: 0.4em;background-color: white;}#sk-container-id-1 div.sk-label label {font-family: monospace;font-weight: bold;display: inline-block;line-height: 1.2em;}#sk-container-id-1 div.sk-label-container {text-align: center;}#sk-container-id-1 div.sk-container {/* jupyter's `normalize.less` sets `[hidden] { display: none; }` but bootstrap.min.css set `[hidden] { display: none !important; }` so we also need the `!important` here to be able to override the default hidden behavior on the sphinx rendered scikit-learn.org. See: https://github.com/scikit-learn/scikit-learn/issues/21755 */display: inline-block !important;position: relative;}#sk-container-id-1 div.sk-text-repr-fallback {display: none;}</style><div id=\"sk-container-id-1\" class=\"sk-top-container\"><div class=\"sk-text-repr-fallback\"><pre>MultinomialNB()</pre><b>In a Jupyter environment, please rerun this cell to show the HTML representation or trust the notebook. <br />On GitHub, the HTML representation is unable to render, please try loading this page with nbviewer.org.</b></div><div class=\"sk-container\" hidden><div class=\"sk-item\"><div class=\"sk-estimator sk-toggleable\"><input class=\"sk-toggleable__control sk-hidden--visually\" id=\"sk-estimator-id-1\" type=\"checkbox\" checked><label for=\"sk-estimator-id-1\" class=\"sk-toggleable__label sk-toggleable__label-arrow\">MultinomialNB</label><div class=\"sk-toggleable__content\"><pre>MultinomialNB()</pre></div></div></div></div></div>"
            ]
          },
          "metadata": {},
          "execution_count": 10
        }
      ]
    },
    {
      "cell_type": "code",
      "source": [
        "# priors\n",
        "import math\n",
        "#print(prior_p)\n",
        "prior_p = sum(y_train == 1)/len(y_train)\n",
        "print('prior spam:', prior_p)\n",
        "print('log of prior: math.log(prior_p) // Causes ERROR becasue prior_p = ', prior_p)\n",
        "\n",
        "# the model prior matches the prior calculated above\n",
        "print('Works for some reason: naive_bayes.class_log_prior_[1]:', naive_bayes.class_log_prior_[1])\n"
      ],
      "metadata": {
        "colab": {
          "base_uri": "https://localhost:8080/"
        },
        "id": "YfN8SaMAmzpn",
        "outputId": "711a2003-a1c7-4f72-e77d-6cf35cb470de"
      },
      "execution_count": 14,
      "outputs": [
        {
          "output_type": "stream",
          "name": "stdout",
          "text": [
            "prior spam: 0.0\n",
            "log of prior: math.log(prior_p) // Causes ERROR becasue prior_p =  0.0\n",
            "Works for some reason: naive_bayes.class_log_prior_[1]: -2.838546690031579\n"
          ]
        }
      ]
    },
    {
      "cell_type": "code",
      "source": [
        "# log likelihood of words given the class\n",
        "naive_bayes.feature_log_prob_"
      ],
      "metadata": {
        "colab": {
          "base_uri": "https://localhost:8080/"
        },
        "id": "WAZLUEb1o9AT",
        "outputId": "2aab9268-7e24-4b8d-fcc4-93cd5ada42f7"
      },
      "execution_count": 12,
      "outputs": [
        {
          "output_type": "execute_result",
          "data": {
            "text/plain": [
              "array([[-4.16347267, -3.5532849 , -3.5532849 , -4.6431644 , -4.62159465,\n",
              "        -4.67985411, -4.77620249, -4.79744503, -4.5656982 , -3.76060033,\n",
              "        -6.40407268, -4.43983587, -4.79893524, -4.81605954, -3.54433196,\n",
              "        -5.48430239, -5.71176044, -3.4466665 , -6.40407268, -5.31839937,\n",
              "        -6.40407268, -5.3973735 , -6.01195641, -3.94398799, -4.43709245,\n",
              "        -3.80218097, -4.21810316, -4.91945794, -3.4466665 , -3.50053277,\n",
              "        -4.87219193, -5.01777832, -3.71319134, -4.0995438 , -3.50331618,\n",
              "        -6.40407268, -3.79322979, -5.10948604, -4.34786412, -5.52646775,\n",
              "        -3.71319134, -3.56360328, -4.29306962, -4.10280802, -5.38838496,\n",
              "        -3.47295395, -5.57500419, -4.30929335, -3.48866061, -5.88740673,\n",
              "        -6.07434385, -3.59552411, -3.61975913, -3.43251838, -4.0995438 ,\n",
              "        -4.67536286, -6.40407268, -4.37627225, -3.50331618, -6.40407268,\n",
              "        -3.46978308, -3.48866061, -4.21810316, -4.77620249, -4.10038793,\n",
              "        -5.85950288, -3.47985996],\n",
              "       [-4.121921  , -3.83898868, -3.83898868, -4.59142406, -3.98980466,\n",
              "        -4.06187793, -4.74614696, -4.55518853, -3.95422748, -2.72645615,\n",
              "        -5.31745588, -4.00242365, -4.71402192, -4.08833041, -3.77211015,\n",
              "        -4.94213189, -4.26650956, -3.85435553, -5.31745588, -5.31745588,\n",
              "        -5.31745588, -4.97373109, -5.31745588, -5.31745588, -3.74479114,\n",
              "        -3.38022095, -4.69996326, -4.17583694, -3.85435553, -4.24462094,\n",
              "        -4.85512519, -4.21884359, -3.99724276, -4.24615664, -4.0290536 ,\n",
              "        -5.31745588, -4.41190941, -4.87221928, -3.95096272, -5.31745588,\n",
              "        -3.99724276, -4.02190631, -4.06062088, -4.21357259, -4.62161253,\n",
              "        -3.91737251, -5.31745588, -3.9428138 , -4.04678853, -5.31745588,\n",
              "        -4.77126892, -4.07043894, -4.06931922, -3.46677155, -4.24615664,\n",
              "        -4.34446552, -5.31745588, -4.13118328, -4.0290536 , -5.31745588,\n",
              "        -3.90494256, -4.04678853, -4.69996326, -4.74614696, -3.92860317,\n",
              "        -5.31745588, -3.31426904],\n",
              "       [-4.03941371, -3.88571736, -3.88571736, -4.65945025, -4.16936249,\n",
              "        -4.21628659, -4.3832647 , -4.06196783, -4.06470645, -3.31139339,\n",
              "        -5.17421942, -4.00471463, -4.45372187, -3.68545602, -3.99356258,\n",
              "        -5.17421942, -4.74126292, -3.91098272, -5.17421942, -5.17421942,\n",
              "        -4.22942048, -4.85291328, -5.17421942, -5.17421942, -3.86515341,\n",
              "        -3.57204614, -4.9678919 , -4.38439134, -3.91098272, -4.2770747 ,\n",
              "        -5.17421942, -3.56478151, -4.01856237, -4.25371116, -3.79411684,\n",
              "        -5.17421942, -4.27326781, -5.17421942, -3.92148636, -5.17421942,\n",
              "        -4.01856237, -3.78826647, -4.03421388, -4.3223205 , -4.39276564,\n",
              "        -3.96469748, -5.17421942, -3.88289132, -3.99092626, -4.63770007,\n",
              "        -5.17421942, -4.05974088, -4.14825512, -3.43004278, -4.25371116,\n",
              "        -4.21686915, -5.17421942, -4.1911342 , -3.79411684, -5.17421942,\n",
              "        -3.83004672, -3.99092626, -4.9678919 , -4.3832647 , -4.17047346,\n",
              "        -5.17421942, -3.47411433],\n",
              "       [-4.62995718, -3.56965298, -3.56965298, -4.28546683, -4.08095194,\n",
              "        -4.20064641, -4.72003489, -4.2861671 , -4.25594171, -3.54008043,\n",
              "        -6.97247993, -4.22757087, -5.58774802, -5.57892294, -3.673615  ,\n",
              "        -6.11941234, -4.43890085, -3.60587363, -6.54435652, -6.50627046,\n",
              "        -7.30760733, -5.57464659, -5.9731494 , -4.2197928 , -4.09912573,\n",
              "        -3.58739201, -4.2409724 , -4.52025837, -3.60587363, -3.40954933,\n",
              "        -4.44527148, -4.74265797, -3.82075282, -3.90894712, -3.62065743,\n",
              "        -6.24260377, -3.7144143 , -6.43505747, -3.87741572, -5.94408008,\n",
              "        -3.82075282, -3.76130534, -4.62825501, -3.90733097, -5.10850846,\n",
              "        -3.74828311, -5.09769389, -4.10159195, -3.58070822, -6.03284512,\n",
              "        -6.38795012, -3.74648354, -4.0787343 , -3.34057855, -3.90894712,\n",
              "        -5.18800972, -6.97844897, -4.10331915, -3.62065743, -6.97247993,\n",
              "        -3.65316147, -3.58070822, -4.2409724 , -4.72003489, -4.07092859,\n",
              "        -5.99175417, -3.34196297],\n",
              "       [-4.09320058, -3.76848531, -3.76848531, -4.13860851, -4.19808674,\n",
              "        -4.24525465, -4.94208932, -4.74603608, -4.05212397, -3.7877388 ,\n",
              "        -5.7809828 , -4.16000656, -6.09731242, -4.63347323, -3.9363973 ,\n",
              "        -5.73163613, -4.91230512, -3.64714018, -6.37017279, -5.78650491,\n",
              "        -5.84493369, -5.0205377 , -5.64272594, -5.36038087, -3.94684923,\n",
              "        -3.5083477 , -4.4141428 , -4.58689917, -3.64714018, -3.77438213,\n",
              "        -4.50980627, -3.47980104, -3.65350591, -4.19966976, -3.45808811,\n",
              "        -5.76054421, -3.74345235, -6.37017279, -4.12839409, -5.1043503 ,\n",
              "        -3.65350591, -3.7048666 , -4.27619155, -4.21740641, -4.97092811,\n",
              "        -3.67348825, -5.47945106, -3.79320613, -3.70550366, -4.84898543,\n",
              "        -6.37017279, -3.76632501, -3.99024251, -3.59477372, -4.19966976,\n",
              "        -5.06215401, -5.07931103, -4.20710598, -3.45808811, -5.7809828 ,\n",
              "        -3.76043216, -3.70550366, -4.4141428 , -4.94208932, -4.02257391,\n",
              "        -5.64812413, -3.37599499]])"
            ]
          },
          "metadata": {},
          "execution_count": 12
        }
      ]
    },
    {
      "cell_type": "code",
      "source": [
        "# evaluate on test data\n",
        "from sklearn.metrics import accuracy_score, precision_score, recall_score, f1_score, confusion_matrix\n",
        "\n",
        "# make predictions on the test data\n",
        "pred = naive_bayes.predict(X_test)\n",
        "\n",
        "# print confusion matrix\n",
        "print(confusion_matrix(y_test, pred))\n",
        "\n",
        "\n",
        "\n",
        "\n",
        "# get 5x5 confusion matrix (multinomial categories)...more than expected\n",
        "# I am confusion"
      ],
      "metadata": {
        "colab": {
          "base_uri": "https://localhost:8080/"
        },
        "id": "DUKl4lubpCQi",
        "outputId": "6b7c6f99-7d8e-4b42-c1bf-5fcc597db2bb"
      },
      "execution_count": 16,
      "outputs": [
        {
          "output_type": "stream",
          "name": "stdout",
          "text": [
            "[[ 0  0  0 34  2]\n",
            " [ 0  0  0  7  0]\n",
            " [ 0  0  0 13  0]\n",
            " [ 0  0  1 92  6]\n",
            " [ 0  0  0 29  4]]\n"
          ]
        }
      ]
    },
    {
      "cell_type": "markdown",
      "source": [
        "#### Try again with only 2 columns this time"
      ],
      "metadata": {
        "id": "_2KZvuZ5qvQ_"
      }
    },
    {
      "cell_type": "code",
      "source": [
        "df = pd.read_csv('/content/drive/MyDrive/Colab Notebooks/mood.csv', header = 0, usecols=[5,6],encoding='latin-1')\n",
        "df['activities'] = df['activities'].str.replace('|','', regex = True) # remove | symbol\n",
        "\n",
        "X = df.activities\n",
        "y = df.mood\n",
        "\n",
        "X_train, X_test, y_train, y_test = train_test_split(X, y, test_size=0.2, train_size=0.8, random_state=1234)\n",
        "\n",
        "X_train = vectorizer.fit_transform(X_train.values.astype('U')) \n",
        "X_test = vectorizer.transform(X_test.values.astype('U'))   \n",
        "\n",
        "naive_bayes = MultinomialNB()\n",
        "naive_bayes.fit(X_train, y_train)\n",
        "\n",
        "prior_p = sum(y_train == 1)/len(y_train)\n",
        "print('prior spam:', prior_p)\n",
        "print('log of prior: math.log(prior_p) // Causes error becasue prior_p = ', prior_p)\n",
        "\n",
        "print('works for some reason: naive_bayes.class_log_prior_[1]:', naive_bayes.class_log_prior_[1])\n",
        "\n",
        "naive_bayes.feature_log_prob_\n",
        "\n",
        "pred = naive_bayes.predict(X_test)\n",
        "\n",
        "print(\"\\n\", confusion_matrix(y_test, pred))\n",
        "\n",
        "\n",
        "\n",
        "\n",
        "# Same results as before with just 2 columns from the dataframe\n",
        "# Realized the matrix is 5X5 because there are 5 types of moods possible, this checks out now"
      ],
      "metadata": {
        "colab": {
          "base_uri": "https://localhost:8080/"
        },
        "id": "-P4DIh6LqQNG",
        "outputId": "03708eef-4db1-42c9-b2f4-299f6fc971e6"
      },
      "execution_count": 21,
      "outputs": [
        {
          "output_type": "stream",
          "name": "stdout",
          "text": [
            "prior spam: 0.0\n",
            "log of prior: math.log(prior_p) // Causes error becasue prior_p =  0.0\n",
            "works for some reason: naive_bayes.class_log_prior_[1]: -2.838546690031579\n",
            "\n",
            " [[ 0  0  0 34  2]\n",
            " [ 0  0  0  7  0]\n",
            " [ 0  0  0 13  0]\n",
            " [ 0  0  1 92  6]\n",
            " [ 0  0  0 29  4]]\n"
          ]
        }
      ]
    },
    {
      "cell_type": "markdown",
      "source": [
        "*Source: https://medium.com/mlearning-ai/confusion-matrix-for-multiclass-classification-f25ed7173e66*\n",
        "\n",
        "True Positive \n",
        "```\n",
        "X O O O O\n",
        "O X O O O\n",
        "O O X O O\n",
        "O O O X O\n",
        "O O O O X\n",
        "```\n",
        "True Negative\n",
        "```\n",
        "X O O O O\n",
        "O X O O O\n",
        "O O X O O\n",
        "O O O X O\n",
        "O O O O O\n",
        "```\n",
        "False Posivite\n",
        "```\n",
        "O O O O X\n",
        "O O O O X\n",
        "O O O O X\n",
        "O O O O X\n",
        "O O O O O\n",
        "```\n",
        "False Negative\n",
        "```\n",
        "O O O O O\n",
        "O O O O O\n",
        "O O O O O\n",
        "O O O O O\n",
        "X X X X O\n",
        "```\n"
      ],
      "metadata": {
        "id": "SKiAgrRXvRl9"
      }
    },
    {
      "cell_type": "markdown",
      "source": [
        "### Classification report for the 5x5 confusion matrix"
      ],
      "metadata": {
        "id": "TeDIBFtTxium"
      }
    },
    {
      "cell_type": "markdown",
      "source": [
        "*   Precision = Accuracy of positive predicitons\n",
        "*   Recall = % of positive cases caught\n",
        "* F1-Score = % of positive predictions correct\n",
        "* Macro Avg = simple average\n",
        "* Weighted Avg = weights by # of observations in each class\n",
        "\n",
        "Only got results for the moods Good & Normal. Not too surprising since Amazing, Awful, and Bad were all categorized as Other in the original dataset. Good is the most frequent mood which explains why it has the highest results despite the meh precision score. It's a safe default guess for the algorithm. \n"
      ],
      "metadata": {
        "id": "8eYNv7GZ_djQ"
      }
    },
    {
      "cell_type": "code",
      "source": [
        "from sklearn.metrics import classification_report\n",
        "print(classification_report(y_test, pred))"
      ],
      "metadata": {
        "colab": {
          "base_uri": "https://localhost:8080/"
        },
        "id": "yMPx_tJDyQZM",
        "outputId": "7b5e8a56-70f0-45f9-c50d-aa587c571b31"
      },
      "execution_count": 23,
      "outputs": [
        {
          "output_type": "stream",
          "name": "stdout",
          "text": [
            "              precision    recall  f1-score   support\n",
            "\n",
            "     Amazing       0.00      0.00      0.00        36\n",
            "       Awful       0.00      0.00      0.00         7\n",
            "         Bad       0.00      0.00      0.00        13\n",
            "        Good       0.53      0.93      0.67        99\n",
            "      Normal       0.33      0.12      0.18        33\n",
            "\n",
            "    accuracy                           0.51       188\n",
            "   macro avg       0.17      0.21      0.17       188\n",
            "weighted avg       0.34      0.51      0.38       188\n",
            "\n"
          ]
        },
        {
          "output_type": "stream",
          "name": "stderr",
          "text": [
            "/usr/local/lib/python3.9/dist-packages/sklearn/metrics/_classification.py:1344: UndefinedMetricWarning: Precision and F-score are ill-defined and being set to 0.0 in labels with no predicted samples. Use `zero_division` parameter to control this behavior.\n",
            "  _warn_prf(average, modifier, msg_start, len(result))\n",
            "/usr/local/lib/python3.9/dist-packages/sklearn/metrics/_classification.py:1344: UndefinedMetricWarning: Precision and F-score are ill-defined and being set to 0.0 in labels with no predicted samples. Use `zero_division` parameter to control this behavior.\n",
            "  _warn_prf(average, modifier, msg_start, len(result))\n",
            "/usr/local/lib/python3.9/dist-packages/sklearn/metrics/_classification.py:1344: UndefinedMetricWarning: Precision and F-score are ill-defined and being set to 0.0 in labels with no predicted samples. Use `zero_division` parameter to control this behavior.\n",
            "  _warn_prf(average, modifier, msg_start, len(result))\n"
          ]
        }
      ]
    },
    {
      "cell_type": "markdown",
      "source": [
        "## **???**"
      ],
      "metadata": {
        "id": "vwsFbyCf_IV_"
      }
    },
    {
      "cell_type": "code",
      "source": [
        "print('mood size in test data:',y_test[y_test==0].shape[0])\n",
        "print('activities size: ', len(y_test))\n",
        "baseline = y_test[y_test==0].shape[0] / y_test.shape[0] \n",
        "print(baseline)"
      ],
      "metadata": {
        "colab": {
          "base_uri": "https://localhost:8080/"
        },
        "id": "UZSeknxy-Jkx",
        "outputId": "9ae9e27b-f6d6-4f61-9986-338bd77f6108"
      },
      "execution_count": null,
      "outputs": [
        {
          "output_type": "stream",
          "name": "stdout",
          "text": [
            "mood size in test data: 0\n",
            "activities size:  188\n",
            "0.0\n"
          ]
        }
      ]
    },
    {
      "cell_type": "code",
      "source": [
        "y_test[y_test != pred]"
      ],
      "metadata": {
        "colab": {
          "base_uri": "https://localhost:8080/"
        },
        "id": "3tJ37qdN_XKv",
        "outputId": "e760226d-04d2-490a-ff41-841c3e0f2821"
      },
      "execution_count": null,
      "outputs": [
        {
          "output_type": "execute_result",
          "data": {
            "text/plain": [
              "166    Amazing\n",
              "767     Normal\n",
              "722     Normal\n",
              "413    Amazing\n",
              "271     Normal\n",
              "        ...   \n",
              "414    Amazing\n",
              "841       Good\n",
              "463     Normal\n",
              "131        Bad\n",
              "326     Normal\n",
              "Name: mood, Length: 92, dtype: object"
            ]
          },
          "metadata": {},
          "execution_count": 14
        }
      ]
    },
    {
      "cell_type": "markdown",
      "source": [
        "## First Try"
      ],
      "metadata": {
        "id": "p4vdgPxR_xOG"
      }
    },
    {
      "cell_type": "code",
      "source": [
        "for i in [153, 469, 291, 246, 110, 126, 22]:\n",
        "    print(df.loc[i])"
      ],
      "metadata": {
        "colab": {
          "base_uri": "https://localhost:8080/"
        },
        "id": "CV52Pfco_i50",
        "outputId": "d9525022-41f7-4951-d2d6-2498344e60c5"
      },
      "execution_count": null,
      "outputs": [
        {
          "output_type": "stream",
          "name": "stdout",
          "text": [
            "activities    learning   Art  fasting   shower  Audio books ...\n",
            "mood                                                       Good\n",
            "Name: 153, dtype: object\n",
            "activities    fasting   walk  meditation   podcast  Audio bo...\n",
            "mood                                                       Good\n",
            "Name: 469, dtype: object\n",
            "activities    reading  Art  Write dairy   prayer  Quran   me...\n",
            "mood                                                     Normal\n",
            "Name: 291, dtype: object\n",
            "activities    Art  Write dairy   prayer  fasting   Quran   w...\n",
            "mood                                                      Awful\n",
            "Name: 246, dtype: object\n",
            "activities    reading  learning   prayer  fasting   walk  sh...\n",
            "mood                                                       Good\n",
            "Name: 110, dtype: object\n",
            "activities    learning   walk  Audio books   writing  Watchi...\n",
            "mood                                                      Awful\n",
            "Name: 126, dtype: object\n",
            "activities    reading  learning   Art  prayer  fasting   wal...\n",
            "mood                                                     Normal\n",
            "Name: 22, dtype: object\n"
          ]
        }
      ]
    },
    {
      "cell_type": "markdown",
      "source": [
        "#### Accuracy Score"
      ],
      "metadata": {
        "id": "p4l1a2YsJT91"
      }
    },
    {
      "cell_type": "code",
      "source": [
        "from sklearn.metrics import accuracy_score\n",
        "pred = naive_bayes.predict(X_test)\n",
        "print('accuracy score: ', accuracy_score(y_test, pred))"
      ],
      "metadata": {
        "colab": {
          "base_uri": "https://localhost:8080/"
        },
        "id": "QAUpgLTEJEIS",
        "outputId": "bf784c9f-e418-49eb-eb67-ba73cd3e7c81"
      },
      "execution_count": null,
      "outputs": [
        {
          "output_type": "stream",
          "name": "stdout",
          "text": [
            "accuracy score:  0.5106382978723404\n"
          ]
        }
      ]
    },
    {
      "cell_type": "markdown",
      "source": [
        "## Second Try (lowercase 'activities')"
      ],
      "metadata": {
        "id": "QdIs4Ap9_0mB"
      }
    },
    {
      "cell_type": "code",
      "source": [
        "df = pd.read_csv('/content/drive/MyDrive/Colab Notebooks/mood.csv', header = 0, usecols=[5,6],encoding='latin-1')\n",
        "df['activities'] = df['activities'].str.lower().replace('|','', regex = True) # remove | symbol\n",
        "\n",
        "X = df.activities\n",
        "y = df.mood\n",
        "\n",
        "X_train, X_test, y_train, y_test = train_test_split(X, y, test_size=0.2, train_size=0.8, random_state=1234)\n",
        "\n",
        "X_train = vectorizer.fit_transform(X_train.values.astype('U')) \n",
        "X_test = vectorizer.transform(X_test.values.astype('U'))   \n",
        "\n",
        "naive_bayes = MultinomialNB()\n",
        "naive_bayes.fit(X_train, y_train)\n",
        "\n",
        "prior_p = sum(y_train == 1)/len(y_train)\n",
        "print('prior spam:', prior_p)\n",
        "print('log of prior: math.log(prior_p) // Causes error becasue prior_p = ', prior_p)\n",
        "\n",
        "print('works for some reason: naive_bayes.class_log_prior_[1]:', naive_bayes.class_log_prior_[1])\n",
        "\n",
        "naive_bayes.feature_log_prob_\n",
        "\n",
        "pred = naive_bayes.predict(X_test)\n",
        "\n",
        "print(\"\\n\", confusion_matrix(y_test, pred))"
      ],
      "metadata": {
        "id": "fCTBZPvE_2Cv",
        "colab": {
          "base_uri": "https://localhost:8080/"
        },
        "outputId": "48c0bda8-7eaa-4903-eb84-03953db9cbf7"
      },
      "execution_count": 26,
      "outputs": [
        {
          "output_type": "stream",
          "name": "stdout",
          "text": [
            "prior spam: 0.0\n",
            "log of prior: math.log(prior_p) // Causes error becasue prior_p =  0.0\n",
            "works for some reason: naive_bayes.class_log_prior_[1]: -2.838546690031579\n",
            "\n",
            " [[ 0  0  0 34  2]\n",
            " [ 0  0  0  7  0]\n",
            " [ 0  0  0 13  0]\n",
            " [ 0  0  1 92  6]\n",
            " [ 0  0  0 29  4]]\n"
          ]
        }
      ]
    },
    {
      "cell_type": "code",
      "source": [
        "from sklearn.metrics import classification_report\n",
        "print(classification_report(y_test, pred))\n",
        "\n",
        "# Making everything lower case gives the same results as first try"
      ],
      "metadata": {
        "colab": {
          "base_uri": "https://localhost:8080/"
        },
        "id": "q-WNfC_6CZ4R",
        "outputId": "cb80c096-9da8-49fa-8330-a17dcd369aa8"
      },
      "execution_count": 28,
      "outputs": [
        {
          "output_type": "stream",
          "name": "stdout",
          "text": [
            "              precision    recall  f1-score   support\n",
            "\n",
            "     Amazing       0.00      0.00      0.00        36\n",
            "       Awful       0.00      0.00      0.00         7\n",
            "         Bad       0.00      0.00      0.00        13\n",
            "        Good       0.53      0.93      0.67        99\n",
            "      Normal       0.33      0.12      0.18        33\n",
            "\n",
            "    accuracy                           0.51       188\n",
            "   macro avg       0.17      0.21      0.17       188\n",
            "weighted avg       0.34      0.51      0.38       188\n",
            "\n"
          ]
        },
        {
          "output_type": "stream",
          "name": "stderr",
          "text": [
            "/usr/local/lib/python3.9/dist-packages/sklearn/metrics/_classification.py:1344: UndefinedMetricWarning: Precision and F-score are ill-defined and being set to 0.0 in labels with no predicted samples. Use `zero_division` parameter to control this behavior.\n",
            "  _warn_prf(average, modifier, msg_start, len(result))\n",
            "/usr/local/lib/python3.9/dist-packages/sklearn/metrics/_classification.py:1344: UndefinedMetricWarning: Precision and F-score are ill-defined and being set to 0.0 in labels with no predicted samples. Use `zero_division` parameter to control this behavior.\n",
            "  _warn_prf(average, modifier, msg_start, len(result))\n",
            "/usr/local/lib/python3.9/dist-packages/sklearn/metrics/_classification.py:1344: UndefinedMetricWarning: Precision and F-score are ill-defined and being set to 0.0 in labels with no predicted samples. Use `zero_division` parameter to control this behavior.\n",
            "  _warn_prf(average, modifier, msg_start, len(result))\n"
          ]
        }
      ]
    },
    {
      "cell_type": "markdown",
      "source": [
        "### Accuracy Score\n",
        "\n"
      ],
      "metadata": {
        "id": "YUQ-AvusD4H7"
      }
    },
    {
      "cell_type": "code",
      "source": [
        "from sklearn.metrics import accuracy_score\n",
        "pred = naive_bayes.predict(X_test)\n",
        "print('accuracy score: ', accuracy_score(y_test, pred))"
      ],
      "metadata": {
        "colab": {
          "base_uri": "https://localhost:8080/"
        },
        "id": "11mm0wH-D1og",
        "outputId": "a8627df1-98f1-4bf6-bb56-93bed636bffb"
      },
      "execution_count": 29,
      "outputs": [
        {
          "output_type": "stream",
          "name": "stdout",
          "text": [
            "accuracy score:  0.5106382978723404\n"
          ]
        }
      ]
    },
    {
      "cell_type": "markdown",
      "source": [
        "## Third Try (Bernoulli)"
      ],
      "metadata": {
        "id": "ZZs0b8uK_4GY"
      }
    },
    {
      "cell_type": "code",
      "source": [
        "from sklearn.naive_bayes import BernoulliNB\n",
        "df = pd.read_csv('/content/drive/MyDrive/Colab Notebooks/mood.csv', header = 0, usecols=[5,6],encoding='latin-1')\n",
        "df['activities'] = df['activities'].str.lower().replace('|','', regex = True) # remove | symbol\n",
        "\n",
        "X = df.activities\n",
        "y = df.mood\n",
        "\n",
        "X_train, X_test, y_train, y_test = train_test_split(X, y, test_size=0.2, train_size=0.8, random_state=1234)\n",
        "\n",
        "X_train = vectorizer.fit_transform(X_train.values.astype('U')) \n",
        "X_test = vectorizer.transform(X_test.values.astype('U'))   \n",
        "\n",
        "naive_bayes2 = BernoulliNB()\n",
        "naive_bayes2.fit(X_train, y_train)\n",
        "\n",
        "pred = naive_bayes2.predict(X_test)\n",
        "\n",
        "print(\"\\n\", confusion_matrix(y_test, pred))"
      ],
      "metadata": {
        "id": "f7C9peuh_5wL",
        "colab": {
          "base_uri": "https://localhost:8080/"
        },
        "outputId": "115f45c8-b63d-4b37-a6ca-093da71a9337"
      },
      "execution_count": 31,
      "outputs": [
        {
          "output_type": "stream",
          "name": "stdout",
          "text": [
            "\n",
            " [[26  1  1  7  1]\n",
            " [ 3  2  0  1  1]\n",
            " [ 2  4  0  5  2]\n",
            " [30  9  9 46  5]\n",
            " [14  6  3  7  3]]\n"
          ]
        }
      ]
    },
    {
      "cell_type": "code",
      "source": [
        "from sklearn.metrics import classification_report\n",
        "print(classification_report(y_test, pred))"
      ],
      "metadata": {
        "colab": {
          "base_uri": "https://localhost:8080/"
        },
        "id": "_NkH0fERI3M0",
        "outputId": "9fed7dd8-bc64-4ddb-948e-b2f9092b83e5"
      },
      "execution_count": 32,
      "outputs": [
        {
          "output_type": "stream",
          "name": "stdout",
          "text": [
            "              precision    recall  f1-score   support\n",
            "\n",
            "     Amazing       0.35      0.72      0.47        36\n",
            "       Awful       0.09      0.29      0.14         7\n",
            "         Bad       0.00      0.00      0.00        13\n",
            "        Good       0.70      0.46      0.56        99\n",
            "      Normal       0.25      0.09      0.13        33\n",
            "\n",
            "    accuracy                           0.41       188\n",
            "   macro avg       0.28      0.31      0.26       188\n",
            "weighted avg       0.48      0.41      0.41       188\n",
            "\n"
          ]
        }
      ]
    },
    {
      "cell_type": "markdown",
      "source": [
        "Better results withint he classification report when using Bernoulli, most likely because there is only one trial when running Bernoulli. This might oversimplify the dataset results of multiple categories because when compared to a Multinomial trial, frequency is taken into account."
      ],
      "metadata": {
        "id": "scQWbeizKGDH"
      }
    },
    {
      "cell_type": "markdown",
      "source": [
        "### Accuracy Score"
      ],
      "metadata": {
        "id": "96CqfK9mI8Yj"
      }
    },
    {
      "cell_type": "code",
      "source": [
        "from sklearn.metrics import accuracy_score\n",
        "pred = naive_bayes.predict(X_test)\n",
        "print('accuracy score: ', accuracy_score(y_test, pred))\n",
        "\n",
        "# Strange that the accuracy score is the same"
      ],
      "metadata": {
        "colab": {
          "base_uri": "https://localhost:8080/"
        },
        "id": "mrceTEZ_JBvE",
        "outputId": "5fefd9f3-7e26-49ec-d2be-78fd68ffe00d"
      },
      "execution_count": 33,
      "outputs": [
        {
          "output_type": "stream",
          "name": "stdout",
          "text": [
            "accuracy score:  0.5106382978723404\n"
          ]
        }
      ]
    },
    {
      "cell_type": "markdown",
      "source": [
        "# Logistic Regression\n"
      ],
      "metadata": {
        "id": "AKLD_qF49eVf"
      }
    },
    {
      "cell_type": "code",
      "source": [
        "from sklearn.pipeline import Pipeline\n",
        "from sklearn.feature_extraction.text import TfidfVectorizer\n",
        "from sklearn.linear_model._logistic import LogisticRegression\n",
        "from sklearn.metrics import accuracy_score, precision_score, recall_score, f1_score, log_loss"
      ],
      "metadata": {
        "id": "BFo8Gv3SAGL7"
      },
      "execution_count": 34,
      "outputs": []
    },
    {
      "cell_type": "code",
      "source": [
        "df = pd.read_csv('/content/drive/MyDrive/Colab Notebooks/mood.csv', header = 0, usecols=[5,6],encoding='latin-1')\n",
        "df['activities'] = df['activities'].str.replace('|','', regex = True) # remove | symbol\n",
        "\n",
        "# X = activities\n",
        "# y = mood\n",
        "X = df.activities\n",
        "y = df.mood\n",
        "X_train, X_test, y_train, y_test = train_test_split(X, y, test_size=0.2, train_size=0.8, random_state=1234)\n",
        "\n",
        "X_train = X_train.values.astype('U')\n",
        "X_test = X_test.values.astype('U')\n",
        "y_train = y_train.values.astype('U')\n",
        "y_test = y_test.values.astype('U')\n",
        "\n",
        "\n",
        "pipe1 = Pipeline([\n",
        "        ('tfidf', TfidfVectorizer()),\n",
        "        ('logreg', LogisticRegression(multi_class='multinomial', solver='lbfgs',class_weight='balanced')),\n",
        "])\n",
        "\n",
        "pipe1.fit(X_train, y_train)"
      ],
      "metadata": {
        "colab": {
          "base_uri": "https://localhost:8080/",
          "height": 124
        },
        "id": "rYsEnzLkC5hO",
        "outputId": "ed11d3d6-e6e0-4a83-e5ca-bff81b70ac4e"
      },
      "execution_count": 35,
      "outputs": [
        {
          "output_type": "execute_result",
          "data": {
            "text/plain": [
              "Pipeline(steps=[('tfidf', TfidfVectorizer()),\n",
              "                ('logreg',\n",
              "                 LogisticRegression(class_weight='balanced',\n",
              "                                    multi_class='multinomial'))])"
            ],
            "text/html": [
              "<style>#sk-container-id-2 {color: black;background-color: white;}#sk-container-id-2 pre{padding: 0;}#sk-container-id-2 div.sk-toggleable {background-color: white;}#sk-container-id-2 label.sk-toggleable__label {cursor: pointer;display: block;width: 100%;margin-bottom: 0;padding: 0.3em;box-sizing: border-box;text-align: center;}#sk-container-id-2 label.sk-toggleable__label-arrow:before {content: \"▸\";float: left;margin-right: 0.25em;color: #696969;}#sk-container-id-2 label.sk-toggleable__label-arrow:hover:before {color: black;}#sk-container-id-2 div.sk-estimator:hover label.sk-toggleable__label-arrow:before {color: black;}#sk-container-id-2 div.sk-toggleable__content {max-height: 0;max-width: 0;overflow: hidden;text-align: left;background-color: #f0f8ff;}#sk-container-id-2 div.sk-toggleable__content pre {margin: 0.2em;color: black;border-radius: 0.25em;background-color: #f0f8ff;}#sk-container-id-2 input.sk-toggleable__control:checked~div.sk-toggleable__content {max-height: 200px;max-width: 100%;overflow: auto;}#sk-container-id-2 input.sk-toggleable__control:checked~label.sk-toggleable__label-arrow:before {content: \"▾\";}#sk-container-id-2 div.sk-estimator input.sk-toggleable__control:checked~label.sk-toggleable__label {background-color: #d4ebff;}#sk-container-id-2 div.sk-label input.sk-toggleable__control:checked~label.sk-toggleable__label {background-color: #d4ebff;}#sk-container-id-2 input.sk-hidden--visually {border: 0;clip: rect(1px 1px 1px 1px);clip: rect(1px, 1px, 1px, 1px);height: 1px;margin: -1px;overflow: hidden;padding: 0;position: absolute;width: 1px;}#sk-container-id-2 div.sk-estimator {font-family: monospace;background-color: #f0f8ff;border: 1px dotted black;border-radius: 0.25em;box-sizing: border-box;margin-bottom: 0.5em;}#sk-container-id-2 div.sk-estimator:hover {background-color: #d4ebff;}#sk-container-id-2 div.sk-parallel-item::after {content: \"\";width: 100%;border-bottom: 1px solid gray;flex-grow: 1;}#sk-container-id-2 div.sk-label:hover label.sk-toggleable__label {background-color: #d4ebff;}#sk-container-id-2 div.sk-serial::before {content: \"\";position: absolute;border-left: 1px solid gray;box-sizing: border-box;top: 0;bottom: 0;left: 50%;z-index: 0;}#sk-container-id-2 div.sk-serial {display: flex;flex-direction: column;align-items: center;background-color: white;padding-right: 0.2em;padding-left: 0.2em;position: relative;}#sk-container-id-2 div.sk-item {position: relative;z-index: 1;}#sk-container-id-2 div.sk-parallel {display: flex;align-items: stretch;justify-content: center;background-color: white;position: relative;}#sk-container-id-2 div.sk-item::before, #sk-container-id-2 div.sk-parallel-item::before {content: \"\";position: absolute;border-left: 1px solid gray;box-sizing: border-box;top: 0;bottom: 0;left: 50%;z-index: -1;}#sk-container-id-2 div.sk-parallel-item {display: flex;flex-direction: column;z-index: 1;position: relative;background-color: white;}#sk-container-id-2 div.sk-parallel-item:first-child::after {align-self: flex-end;width: 50%;}#sk-container-id-2 div.sk-parallel-item:last-child::after {align-self: flex-start;width: 50%;}#sk-container-id-2 div.sk-parallel-item:only-child::after {width: 0;}#sk-container-id-2 div.sk-dashed-wrapped {border: 1px dashed gray;margin: 0 0.4em 0.5em 0.4em;box-sizing: border-box;padding-bottom: 0.4em;background-color: white;}#sk-container-id-2 div.sk-label label {font-family: monospace;font-weight: bold;display: inline-block;line-height: 1.2em;}#sk-container-id-2 div.sk-label-container {text-align: center;}#sk-container-id-2 div.sk-container {/* jupyter's `normalize.less` sets `[hidden] { display: none; }` but bootstrap.min.css set `[hidden] { display: none !important; }` so we also need the `!important` here to be able to override the default hidden behavior on the sphinx rendered scikit-learn.org. See: https://github.com/scikit-learn/scikit-learn/issues/21755 */display: inline-block !important;position: relative;}#sk-container-id-2 div.sk-text-repr-fallback {display: none;}</style><div id=\"sk-container-id-2\" class=\"sk-top-container\"><div class=\"sk-text-repr-fallback\"><pre>Pipeline(steps=[(&#x27;tfidf&#x27;, TfidfVectorizer()),\n",
              "                (&#x27;logreg&#x27;,\n",
              "                 LogisticRegression(class_weight=&#x27;balanced&#x27;,\n",
              "                                    multi_class=&#x27;multinomial&#x27;))])</pre><b>In a Jupyter environment, please rerun this cell to show the HTML representation or trust the notebook. <br />On GitHub, the HTML representation is unable to render, please try loading this page with nbviewer.org.</b></div><div class=\"sk-container\" hidden><div class=\"sk-item sk-dashed-wrapped\"><div class=\"sk-label-container\"><div class=\"sk-label sk-toggleable\"><input class=\"sk-toggleable__control sk-hidden--visually\" id=\"sk-estimator-id-2\" type=\"checkbox\" ><label for=\"sk-estimator-id-2\" class=\"sk-toggleable__label sk-toggleable__label-arrow\">Pipeline</label><div class=\"sk-toggleable__content\"><pre>Pipeline(steps=[(&#x27;tfidf&#x27;, TfidfVectorizer()),\n",
              "                (&#x27;logreg&#x27;,\n",
              "                 LogisticRegression(class_weight=&#x27;balanced&#x27;,\n",
              "                                    multi_class=&#x27;multinomial&#x27;))])</pre></div></div></div><div class=\"sk-serial\"><div class=\"sk-item\"><div class=\"sk-estimator sk-toggleable\"><input class=\"sk-toggleable__control sk-hidden--visually\" id=\"sk-estimator-id-3\" type=\"checkbox\" ><label for=\"sk-estimator-id-3\" class=\"sk-toggleable__label sk-toggleable__label-arrow\">TfidfVectorizer</label><div class=\"sk-toggleable__content\"><pre>TfidfVectorizer()</pre></div></div></div><div class=\"sk-item\"><div class=\"sk-estimator sk-toggleable\"><input class=\"sk-toggleable__control sk-hidden--visually\" id=\"sk-estimator-id-4\" type=\"checkbox\" ><label for=\"sk-estimator-id-4\" class=\"sk-toggleable__label sk-toggleable__label-arrow\">LogisticRegression</label><div class=\"sk-toggleable__content\"><pre>LogisticRegression(class_weight=&#x27;balanced&#x27;, multi_class=&#x27;multinomial&#x27;)</pre></div></div></div></div></div></div></div>"
            ]
          },
          "metadata": {},
          "execution_count": 35
        }
      ]
    },
    {
      "cell_type": "code",
      "source": [
        "# evaluate on test data\n",
        "pred = pipe1.predict(X_test)\n",
        "\n",
        "from sklearn import metrics\n",
        "print(metrics.classification_report(y_test, pred))\n",
        "\n",
        "print(\"Confusion matrix:\\n\", metrics.confusion_matrix(y_test, pred))\n"
      ],
      "metadata": {
        "colab": {
          "base_uri": "https://localhost:8080/"
        },
        "id": "l1iglAq9DrA3",
        "outputId": "e919f7db-acd3-4151-df9c-0bc70bf5934b"
      },
      "execution_count": 37,
      "outputs": [
        {
          "output_type": "stream",
          "name": "stdout",
          "text": [
            "              precision    recall  f1-score   support\n",
            "\n",
            "     Amazing       0.42      0.58      0.49        36\n",
            "       Awful       0.03      0.14      0.05         7\n",
            "         Bad       0.09      0.15      0.11        13\n",
            "        Good       0.70      0.32      0.44        99\n",
            "      Normal       0.31      0.36      0.33        33\n",
            "\n",
            "    accuracy                           0.36       188\n",
            "   macro avg       0.31      0.31      0.29       188\n",
            "weighted avg       0.51      0.36      0.39       188\n",
            "\n",
            "Confusion matrix:\n",
            " [[21  2  1  8  4]\n",
            " [ 1  1  1  1  3]\n",
            " [ 1  2  2  2  6]\n",
            " [21 20 12 32 14]\n",
            " [ 6  6  6  3 12]]\n"
          ]
        }
      ]
    },
    {
      "cell_type": "markdown",
      "source": [
        "Worse results than Naive Bayes for accuracy. However, gets false positives for every category as opposed to before. However, seems slightly more true to the actual data than before because Logistic Regression recognized some of the correct moods within the Other category based on given activites. "
      ],
      "metadata": {
        "id": "VQWaEKJNMGrR"
      }
    },
    {
      "cell_type": "markdown",
      "source": [
        "#### Accuracy Score"
      ],
      "metadata": {
        "id": "72DEnlQsJd5K"
      }
    },
    {
      "cell_type": "code",
      "source": [
        "import numpy as np\n",
        "print('accuracy score: ', accuracy_score(y_test, pred))"
      ],
      "metadata": {
        "colab": {
          "base_uri": "https://localhost:8080/"
        },
        "id": "6TVaF4fkJdR6",
        "outputId": "e057ce5a-dc14-43b8-f540-10d8ae7ba7c3"
      },
      "execution_count": 42,
      "outputs": [
        {
          "output_type": "stream",
          "name": "stdout",
          "text": [
            "accuracy score:  0.3617021276595745\n"
          ]
        }
      ]
    },
    {
      "cell_type": "code",
      "source": [
        "probs = pipe1.predict_proba(df)\n",
        "probs[:5]"
      ],
      "metadata": {
        "colab": {
          "base_uri": "https://localhost:8080/"
        },
        "id": "HwH1bPvUIX8X",
        "outputId": "d41d0a75-bbc0-4bd6-ab79-2585ab4f1888"
      },
      "execution_count": null,
      "outputs": [
        {
          "output_type": "execute_result",
          "data": {
            "text/plain": [
              "array([[0.05135764, 0.20205584, 0.2670618 , 0.18254376, 0.29698096],\n",
              "       [0.05135764, 0.20205584, 0.2670618 , 0.18254376, 0.29698096]])"
            ]
          },
          "metadata": {},
          "execution_count": 45
        }
      ]
    },
    {
      "cell_type": "markdown",
      "source": [
        "# Neural Networks"
      ],
      "metadata": {
        "id": "biuGbWoP9mRf"
      }
    },
    {
      "cell_type": "code",
      "source": [
        "import pandas as pd\n",
        "from nltk.corpus import stopwords\n",
        "from sklearn.feature_extraction.text import TfidfVectorizer\n",
        "from sklearn.neural_network import MLPClassifier\n",
        "df = pd.read_csv('/content/drive/MyDrive/Colab Notebooks/mood.csv', header = 0, usecols=[5,6],encoding='latin-1')\n",
        "df['activities'] = df['activities'].str.replace('|','', regex = True) # remove | symbol\n",
        "\n",
        "stopwords = set(stopwords.words('english'))\n",
        "vectorizer = TfidfVectorizer(stop_words=list(stopwords), binary=True)\n",
        "\n",
        "# X = activities\n",
        "# y = mood\n",
        "\n",
        "X_train, X_test, y_train, y_test = train_test_split(X, y, test_size=0.2, train_size=0.8, random_state=1234)\n",
        "\n",
        "pipe1 = Pipeline([\n",
        "        ('tfidf', TfidfVectorizer()),\n",
        "        ('neuralnet', MLPClassifier(solver='lbfgs', alpha=1e-5,\n",
        "                   hidden_layer_sizes=(15, 7), random_state=1)),\n",
        "         ])\n",
        "\n",
        "# Getting error? Not running with tested group?\n",
        "pipe1.fit(df.activities.values.astype('U'), df.mood)"
      ],
      "metadata": {
        "colab": {
          "base_uri": "https://localhost:8080/",
          "height": 246
        },
        "id": "3d9QEOQOItpZ",
        "outputId": "fc1a8636-2fd9-4471-a4e4-c8ccd6db4e44"
      },
      "execution_count": 52,
      "outputs": [
        {
          "output_type": "stream",
          "name": "stderr",
          "text": [
            "/usr/local/lib/python3.9/dist-packages/sklearn/neural_network/_multilayer_perceptron.py:541: ConvergenceWarning: lbfgs failed to converge (status=1):\n",
            "STOP: TOTAL NO. of ITERATIONS REACHED LIMIT.\n",
            "\n",
            "Increase the number of iterations (max_iter) or scale the data as shown in:\n",
            "    https://scikit-learn.org/stable/modules/preprocessing.html\n",
            "  self.n_iter_ = _check_optimize_result(\"lbfgs\", opt_res, self.max_iter)\n"
          ]
        },
        {
          "output_type": "execute_result",
          "data": {
            "text/plain": [
              "Pipeline(steps=[('tfidf', TfidfVectorizer()),\n",
              "                ('neuralnet',\n",
              "                 MLPClassifier(alpha=1e-05, hidden_layer_sizes=(15, 7),\n",
              "                               random_state=1, solver='lbfgs'))])"
            ],
            "text/html": [
              "<style>#sk-container-id-5 {color: black;background-color: white;}#sk-container-id-5 pre{padding: 0;}#sk-container-id-5 div.sk-toggleable {background-color: white;}#sk-container-id-5 label.sk-toggleable__label {cursor: pointer;display: block;width: 100%;margin-bottom: 0;padding: 0.3em;box-sizing: border-box;text-align: center;}#sk-container-id-5 label.sk-toggleable__label-arrow:before {content: \"▸\";float: left;margin-right: 0.25em;color: #696969;}#sk-container-id-5 label.sk-toggleable__label-arrow:hover:before {color: black;}#sk-container-id-5 div.sk-estimator:hover label.sk-toggleable__label-arrow:before {color: black;}#sk-container-id-5 div.sk-toggleable__content {max-height: 0;max-width: 0;overflow: hidden;text-align: left;background-color: #f0f8ff;}#sk-container-id-5 div.sk-toggleable__content pre {margin: 0.2em;color: black;border-radius: 0.25em;background-color: #f0f8ff;}#sk-container-id-5 input.sk-toggleable__control:checked~div.sk-toggleable__content {max-height: 200px;max-width: 100%;overflow: auto;}#sk-container-id-5 input.sk-toggleable__control:checked~label.sk-toggleable__label-arrow:before {content: \"▾\";}#sk-container-id-5 div.sk-estimator input.sk-toggleable__control:checked~label.sk-toggleable__label {background-color: #d4ebff;}#sk-container-id-5 div.sk-label input.sk-toggleable__control:checked~label.sk-toggleable__label {background-color: #d4ebff;}#sk-container-id-5 input.sk-hidden--visually {border: 0;clip: rect(1px 1px 1px 1px);clip: rect(1px, 1px, 1px, 1px);height: 1px;margin: -1px;overflow: hidden;padding: 0;position: absolute;width: 1px;}#sk-container-id-5 div.sk-estimator {font-family: monospace;background-color: #f0f8ff;border: 1px dotted black;border-radius: 0.25em;box-sizing: border-box;margin-bottom: 0.5em;}#sk-container-id-5 div.sk-estimator:hover {background-color: #d4ebff;}#sk-container-id-5 div.sk-parallel-item::after {content: \"\";width: 100%;border-bottom: 1px solid gray;flex-grow: 1;}#sk-container-id-5 div.sk-label:hover label.sk-toggleable__label {background-color: #d4ebff;}#sk-container-id-5 div.sk-serial::before {content: \"\";position: absolute;border-left: 1px solid gray;box-sizing: border-box;top: 0;bottom: 0;left: 50%;z-index: 0;}#sk-container-id-5 div.sk-serial {display: flex;flex-direction: column;align-items: center;background-color: white;padding-right: 0.2em;padding-left: 0.2em;position: relative;}#sk-container-id-5 div.sk-item {position: relative;z-index: 1;}#sk-container-id-5 div.sk-parallel {display: flex;align-items: stretch;justify-content: center;background-color: white;position: relative;}#sk-container-id-5 div.sk-item::before, #sk-container-id-5 div.sk-parallel-item::before {content: \"\";position: absolute;border-left: 1px solid gray;box-sizing: border-box;top: 0;bottom: 0;left: 50%;z-index: -1;}#sk-container-id-5 div.sk-parallel-item {display: flex;flex-direction: column;z-index: 1;position: relative;background-color: white;}#sk-container-id-5 div.sk-parallel-item:first-child::after {align-self: flex-end;width: 50%;}#sk-container-id-5 div.sk-parallel-item:last-child::after {align-self: flex-start;width: 50%;}#sk-container-id-5 div.sk-parallel-item:only-child::after {width: 0;}#sk-container-id-5 div.sk-dashed-wrapped {border: 1px dashed gray;margin: 0 0.4em 0.5em 0.4em;box-sizing: border-box;padding-bottom: 0.4em;background-color: white;}#sk-container-id-5 div.sk-label label {font-family: monospace;font-weight: bold;display: inline-block;line-height: 1.2em;}#sk-container-id-5 div.sk-label-container {text-align: center;}#sk-container-id-5 div.sk-container {/* jupyter's `normalize.less` sets `[hidden] { display: none; }` but bootstrap.min.css set `[hidden] { display: none !important; }` so we also need the `!important` here to be able to override the default hidden behavior on the sphinx rendered scikit-learn.org. See: https://github.com/scikit-learn/scikit-learn/issues/21755 */display: inline-block !important;position: relative;}#sk-container-id-5 div.sk-text-repr-fallback {display: none;}</style><div id=\"sk-container-id-5\" class=\"sk-top-container\"><div class=\"sk-text-repr-fallback\"><pre>Pipeline(steps=[(&#x27;tfidf&#x27;, TfidfVectorizer()),\n",
              "                (&#x27;neuralnet&#x27;,\n",
              "                 MLPClassifier(alpha=1e-05, hidden_layer_sizes=(15, 7),\n",
              "                               random_state=1, solver=&#x27;lbfgs&#x27;))])</pre><b>In a Jupyter environment, please rerun this cell to show the HTML representation or trust the notebook. <br />On GitHub, the HTML representation is unable to render, please try loading this page with nbviewer.org.</b></div><div class=\"sk-container\" hidden><div class=\"sk-item sk-dashed-wrapped\"><div class=\"sk-label-container\"><div class=\"sk-label sk-toggleable\"><input class=\"sk-toggleable__control sk-hidden--visually\" id=\"sk-estimator-id-11\" type=\"checkbox\" ><label for=\"sk-estimator-id-11\" class=\"sk-toggleable__label sk-toggleable__label-arrow\">Pipeline</label><div class=\"sk-toggleable__content\"><pre>Pipeline(steps=[(&#x27;tfidf&#x27;, TfidfVectorizer()),\n",
              "                (&#x27;neuralnet&#x27;,\n",
              "                 MLPClassifier(alpha=1e-05, hidden_layer_sizes=(15, 7),\n",
              "                               random_state=1, solver=&#x27;lbfgs&#x27;))])</pre></div></div></div><div class=\"sk-serial\"><div class=\"sk-item\"><div class=\"sk-estimator sk-toggleable\"><input class=\"sk-toggleable__control sk-hidden--visually\" id=\"sk-estimator-id-12\" type=\"checkbox\" ><label for=\"sk-estimator-id-12\" class=\"sk-toggleable__label sk-toggleable__label-arrow\">TfidfVectorizer</label><div class=\"sk-toggleable__content\"><pre>TfidfVectorizer()</pre></div></div></div><div class=\"sk-item\"><div class=\"sk-estimator sk-toggleable\"><input class=\"sk-toggleable__control sk-hidden--visually\" id=\"sk-estimator-id-13\" type=\"checkbox\" ><label for=\"sk-estimator-id-13\" class=\"sk-toggleable__label sk-toggleable__label-arrow\">MLPClassifier</label><div class=\"sk-toggleable__content\"><pre>MLPClassifier(alpha=1e-05, hidden_layer_sizes=(15, 7), random_state=1,\n",
              "              solver=&#x27;lbfgs&#x27;)</pre></div></div></div></div></div></div></div>"
            ]
          },
          "metadata": {},
          "execution_count": 52
        }
      ]
    },
    {
      "cell_type": "code",
      "source": [
        "# evaluate on test data\n",
        "pred = pipe1.predict(X_test.values.astype('U'))\n",
        "\n",
        "from sklearn import metrics\n",
        "print(metrics.classification_report(y_test, pred))\n",
        "\n",
        "print(\"Confusion matrix:\\n\", metrics.confusion_matrix(y_test, pred))"
      ],
      "metadata": {
        "colab": {
          "base_uri": "https://localhost:8080/"
        },
        "id": "YnadBgHkMY48",
        "outputId": "ede0fb06-03e2-48de-9922-07cfbd8ad2d2"
      },
      "execution_count": 50,
      "outputs": [
        {
          "output_type": "stream",
          "name": "stdout",
          "text": [
            "              precision    recall  f1-score   support\n",
            "\n",
            "     Amazing       0.86      0.89      0.88        36\n",
            "       Awful       0.25      0.14      0.18         7\n",
            "         Bad       0.78      0.54      0.64        13\n",
            "        Good       0.80      0.85      0.82        99\n",
            "      Normal       0.55      0.55      0.55        33\n",
            "\n",
            "    accuracy                           0.76       188\n",
            "   macro avg       0.65      0.59      0.61       188\n",
            "weighted avg       0.75      0.76      0.75       188\n",
            "\n",
            "Confusion matrix:\n",
            " [[32  0  0  2  2]\n",
            " [ 0  1  2  3  1]\n",
            " [ 1  1  7  2  2]\n",
            " [ 3  2  0 84 10]\n",
            " [ 1  0  0 14 18]]\n"
          ]
        }
      ]
    },
    {
      "cell_type": "markdown",
      "source": [
        "Recieved the best accuracy score with Neural Networks. Precision is the best that has been seen with all testing. However, the precision for Awful was very low, most likely because it is a rare occurance within the overall dataset. Interesting how Amazing outperformed Good despite Good appearing more in the dataset across the board."
      ],
      "metadata": {
        "id": "-RXDo6B8N5h9"
      }
    },
    {
      "cell_type": "markdown",
      "source": [
        "#### Accuracy Score"
      ],
      "metadata": {
        "id": "wxxOOjhwSxJx"
      }
    },
    {
      "cell_type": "code",
      "source": [
        "import numpy as np\n",
        "print(\"\\nOverall accuracy: \", np.mean(pred==y_test))"
      ],
      "metadata": {
        "colab": {
          "base_uri": "https://localhost:8080/"
        },
        "id": "HHMTHG00SzXE",
        "outputId": "f6d92e29-511d-41bf-ad65-b9f26f9d7f24"
      },
      "execution_count": 51,
      "outputs": [
        {
          "output_type": "stream",
          "name": "stdout",
          "text": [
            "\n",
            "Overall accuracy:  0.7553191489361702\n"
          ]
        }
      ]
    },
    {
      "cell_type": "markdown",
      "source": [
        "# Final Thoughts"
      ],
      "metadata": {
        "id": "EmhLPXouPEdp"
      }
    },
    {
      "cell_type": "markdown",
      "source": [
        "Logistic regression performed the worst out of all the approaches when it came to an accuracy score of 36%. When looking at the results, it was the only approach to fill in a value for all elements within the confusion matrix which I think contributed to the poor results. Many false positives and negatives. Naive Bayes had an alright accuracy score of 51%. It was odd that no matter what I tried the results for this approach always resulted the same. Not sure if that was a fault of my own or the algorithm was really just consistently giving the same results. Neural Networks gave the best results for accuracy score and overall confusion matrix. The accuracy score was 75% and that aligned very well with the classification report because the Other category for moods had greater precision than the previous two approaches. \n"
      ],
      "metadata": {
        "id": "7-gAMTCgP0LT"
      }
    }
  ]
}